{
  "cells": [
    {
      "cell_type": "code",
      "execution_count": null,
      "metadata": {
        "colab": {
          "base_uri": "https://localhost:8080/"
        },
        "id": "4xsCWinWE5TE",
        "outputId": "2c4df7e1-7407-46d3-a2fe-07f6a5ce21da"
      },
      "outputs": [
        {
          "output_type": "stream",
          "name": "stdout",
          "text": [
            "Collecting tensorflow_addons\n",
            "  Downloading tensorflow_addons-0.23.0-cp310-cp310-manylinux_2_17_x86_64.manylinux2014_x86_64.whl (611 kB)\n",
            "\u001b[2K     \u001b[90m━━━━━━━━━━━━━━━━━━━━━━━━━━━━━━━━━━━━━━━━\u001b[0m \u001b[32m611.8/611.8 kB\u001b[0m \u001b[31m4.6 MB/s\u001b[0m eta \u001b[36m0:00:00\u001b[0m\n",
            "\u001b[?25hRequirement already satisfied: packaging in /usr/local/lib/python3.10/dist-packages (from tensorflow_addons) (24.1)\n",
            "Collecting typeguard<3.0.0,>=2.7 (from tensorflow_addons)\n",
            "  Downloading typeguard-2.13.3-py3-none-any.whl (17 kB)\n",
            "Installing collected packages: typeguard, tensorflow_addons\n",
            "Successfully installed tensorflow_addons-0.23.0 typeguard-2.13.3\n"
          ]
        }
      ],
      "source": [
        "!pip install tensorflow_addons"
      ]
    },
    {
      "cell_type": "code",
      "execution_count": null,
      "metadata": {
        "id": "-JZAz4v-CsY9"
      },
      "outputs": [],
      "source": [
        "import numpy as np\n",
        "import tensorflow as tf\n",
        "from tensorflow import keras\n",
        "from keras import layers, models\n",
        "import numpy as np\n",
        "import os\n",
        "import PIL\n",
        "import PIL.Image\n",
        "import matplotlib.pyplot as plt\n",
        "import pathlib\n",
        "import random\n",
        "from sklearn.model_selection import train_test_split\n",
        "import pandas as pd\n",
        "import seaborn as sb\n",
        "from sklearn.neural_network import MLPClassifier\n",
        "from sklearn.ensemble import StackingClassifier, VotingClassifier, AdaBoostClassifier\n",
        "from sklearn.linear_model import LogisticRegression\n",
        "from sklearn.svm import LinearSVC\n",
        "from sklearn.ensemble import RandomForestClassifier\n",
        "from sklearn.pipeline import make_pipeline\n",
        "from sklearn.preprocessing import StandardScaler\n",
        "from sklearn import metrics\n",
        "from keras.callbacks import EarlyStopping\n",
        "from sklearn.neighbors import KNeighborsClassifier\n",
        "def warn(*args, **kwargs):\n",
        "    pass\n",
        "import warnings\n",
        "warnings.warn = warn"
      ]
    },
    {
      "cell_type": "code",
      "execution_count": null,
      "metadata": {
        "id": "lR0crDhPOh34"
      },
      "outputs": [],
      "source": [
        "class Dict2Class(object):\n",
        "\n",
        "    def __init__(self, my_dict):\n",
        "\n",
        "        for key in my_dict:\n",
        "            setattr(self, key, my_dict[key])"
      ]
    },
    {
      "cell_type": "code",
      "execution_count": null,
      "metadata": {
        "id": "Lhr9qX0jDxcN"
      },
      "outputs": [],
      "source": [
        "ds = pd.read_csv('/content/PDFMalware2022.csv')"
      ]
    },
    {
      "cell_type": "code",
      "execution_count": null,
      "metadata": {
        "colab": {
          "base_uri": "https://localhost:8080/",
          "height": 273
        },
        "id": "Srvi3j65D6zI",
        "outputId": "a947f888-771a-42e5-b563-17759e510678"
      },
      "outputs": [
        {
          "data": {
            "application/vnd.google.colaboratory.intrinsic+json": {
              "type": "dataframe"
            },
            "text/html": [
              "\n",
              "  <div id=\"df-10bf7c61-08af-4bbf-bfe7-4627f864e13f\" class=\"colab-df-container\">\n",
              "    <div>\n",
              "<style scoped>\n",
              "    .dataframe tbody tr th:only-of-type {\n",
              "        vertical-align: middle;\n",
              "    }\n",
              "\n",
              "    .dataframe tbody tr th {\n",
              "        vertical-align: top;\n",
              "    }\n",
              "\n",
              "    .dataframe thead th {\n",
              "        text-align: right;\n",
              "    }\n",
              "</style>\n",
              "<table border=\"1\" class=\"dataframe\">\n",
              "  <thead>\n",
              "    <tr style=\"text-align: right;\">\n",
              "      <th></th>\n",
              "      <th>Fine name</th>\n",
              "      <th>pdfsize</th>\n",
              "      <th>metadata size</th>\n",
              "      <th>pages</th>\n",
              "      <th>xref Length</th>\n",
              "      <th>title characters</th>\n",
              "      <th>isEncrypted</th>\n",
              "      <th>embedded files</th>\n",
              "      <th>images</th>\n",
              "      <th>text</th>\n",
              "      <th>...</th>\n",
              "      <th>AA</th>\n",
              "      <th>OpenAction</th>\n",
              "      <th>Acroform</th>\n",
              "      <th>JBIG2Decode</th>\n",
              "      <th>RichMedia</th>\n",
              "      <th>launch</th>\n",
              "      <th>EmbeddedFile</th>\n",
              "      <th>XFA</th>\n",
              "      <th>Colors</th>\n",
              "      <th>Class</th>\n",
              "    </tr>\n",
              "  </thead>\n",
              "  <tbody>\n",
              "    <tr>\n",
              "      <th>10021</th>\n",
              "      <td>908f8e3411d1bdf5e0fa7ca953c85cc4f133729fd4c71a...</td>\n",
              "      <td>529.0</td>\n",
              "      <td>296.0</td>\n",
              "      <td>1.0</td>\n",
              "      <td>87.0</td>\n",
              "      <td>8.0</td>\n",
              "      <td>0.0</td>\n",
              "      <td>0.0</td>\n",
              "      <td>3</td>\n",
              "      <td>No</td>\n",
              "      <td>...</td>\n",
              "      <td>0</td>\n",
              "      <td>1</td>\n",
              "      <td>0</td>\n",
              "      <td>0</td>\n",
              "      <td>0</td>\n",
              "      <td>0</td>\n",
              "      <td>0</td>\n",
              "      <td>0</td>\n",
              "      <td>0.0</td>\n",
              "      <td>Malicious</td>\n",
              "    </tr>\n",
              "    <tr>\n",
              "      <th>10022</th>\n",
              "      <td>72654b36f6a240d953a9ce3e898a4dfa381031ba7f5e2a...</td>\n",
              "      <td>73.0</td>\n",
              "      <td>314.0</td>\n",
              "      <td>1.0</td>\n",
              "      <td>16.0</td>\n",
              "      <td>3.0</td>\n",
              "      <td>0.0</td>\n",
              "      <td>0.0</td>\n",
              "      <td>-1</td>\n",
              "      <td>unclear</td>\n",
              "      <td>...</td>\n",
              "      <td>0</td>\n",
              "      <td>1</td>\n",
              "      <td>0</td>\n",
              "      <td>0</td>\n",
              "      <td>0</td>\n",
              "      <td>0</td>\n",
              "      <td>0</td>\n",
              "      <td>0</td>\n",
              "      <td>0.0</td>\n",
              "      <td>Malicious</td>\n",
              "    </tr>\n",
              "    <tr>\n",
              "      <th>10023</th>\n",
              "      <td>dad02289bc442e235961f4cf87cbde364a2250bdc57632...</td>\n",
              "      <td>4.0</td>\n",
              "      <td>377.0</td>\n",
              "      <td>2.0</td>\n",
              "      <td>13.0</td>\n",
              "      <td>11.0</td>\n",
              "      <td>0.0</td>\n",
              "      <td>0.0</td>\n",
              "      <td>0</td>\n",
              "      <td>Yes</td>\n",
              "      <td>...</td>\n",
              "      <td>0</td>\n",
              "      <td>1</td>\n",
              "      <td>0</td>\n",
              "      <td>0</td>\n",
              "      <td>0</td>\n",
              "      <td>0</td>\n",
              "      <td>0</td>\n",
              "      <td>0</td>\n",
              "      <td>0.0</td>\n",
              "      <td>Malicious</td>\n",
              "    </tr>\n",
              "    <tr>\n",
              "      <th>10024</th>\n",
              "      <td>b219390e223ea263476d65277d00804cfd0a93023e1903...</td>\n",
              "      <td>38.0</td>\n",
              "      <td>338.0</td>\n",
              "      <td>1.0</td>\n",
              "      <td>200006.0</td>\n",
              "      <td>13.0</td>\n",
              "      <td>0.0</td>\n",
              "      <td>0.0</td>\n",
              "      <td>0</td>\n",
              "      <td>Yes</td>\n",
              "      <td>...</td>\n",
              "      <td>0</td>\n",
              "      <td>1</td>\n",
              "      <td>0</td>\n",
              "      <td>0</td>\n",
              "      <td>0</td>\n",
              "      <td>0</td>\n",
              "      <td>0</td>\n",
              "      <td>0</td>\n",
              "      <td>0.0</td>\n",
              "      <td>Malicious</td>\n",
              "    </tr>\n",
              "    <tr>\n",
              "      <th>10025</th>\n",
              "      <td>b76c4910d7c637f32ebf175247d489a311c2a584a1ac6d...</td>\n",
              "      <td>2.0</td>\n",
              "      <td>180.0</td>\n",
              "      <td>1.0</td>\n",
              "      <td>11.0</td>\n",
              "      <td>0.0</td>\n",
              "      <td>0.0</td>\n",
              "      <td>1.0</td>\n",
              "      <td>0</td>\n",
              "      <td>Yes</td>\n",
              "      <td>...</td>\n",
              "      <td>23</td>\n",
              "      <td>0</td>\n",
              "      <td>0</td>\n",
              "      <td>0</td>\n",
              "      <td>0</td>\n",
              "      <td>0</td>\n",
              "      <td>0</td>\n",
              "      <td>0</td>\n",
              "      <td>0.0</td>\n",
              "      <td>Malicious</td>\n",
              "    </tr>\n",
              "  </tbody>\n",
              "</table>\n",
              "<p>5 rows × 33 columns</p>\n",
              "</div>\n",
              "    <div class=\"colab-df-buttons\">\n",
              "\n",
              "  <div class=\"colab-df-container\">\n",
              "    <button class=\"colab-df-convert\" onclick=\"convertToInteractive('df-10bf7c61-08af-4bbf-bfe7-4627f864e13f')\"\n",
              "            title=\"Convert this dataframe to an interactive table.\"\n",
              "            style=\"display:none;\">\n",
              "\n",
              "  <svg xmlns=\"http://www.w3.org/2000/svg\" height=\"24px\" viewBox=\"0 -960 960 960\">\n",
              "    <path d=\"M120-120v-720h720v720H120Zm60-500h600v-160H180v160Zm220 220h160v-160H400v160Zm0 220h160v-160H400v160ZM180-400h160v-160H180v160Zm440 0h160v-160H620v160ZM180-180h160v-160H180v160Zm440 0h160v-160H620v160Z\"/>\n",
              "  </svg>\n",
              "    </button>\n",
              "\n",
              "  <style>\n",
              "    .colab-df-container {\n",
              "      display:flex;\n",
              "      gap: 12px;\n",
              "    }\n",
              "\n",
              "    .colab-df-convert {\n",
              "      background-color: #E8F0FE;\n",
              "      border: none;\n",
              "      border-radius: 50%;\n",
              "      cursor: pointer;\n",
              "      display: none;\n",
              "      fill: #1967D2;\n",
              "      height: 32px;\n",
              "      padding: 0 0 0 0;\n",
              "      width: 32px;\n",
              "    }\n",
              "\n",
              "    .colab-df-convert:hover {\n",
              "      background-color: #E2EBFA;\n",
              "      box-shadow: 0px 1px 2px rgba(60, 64, 67, 0.3), 0px 1px 3px 1px rgba(60, 64, 67, 0.15);\n",
              "      fill: #174EA6;\n",
              "    }\n",
              "\n",
              "    .colab-df-buttons div {\n",
              "      margin-bottom: 4px;\n",
              "    }\n",
              "\n",
              "    [theme=dark] .colab-df-convert {\n",
              "      background-color: #3B4455;\n",
              "      fill: #D2E3FC;\n",
              "    }\n",
              "\n",
              "    [theme=dark] .colab-df-convert:hover {\n",
              "      background-color: #434B5C;\n",
              "      box-shadow: 0px 1px 3px 1px rgba(0, 0, 0, 0.15);\n",
              "      filter: drop-shadow(0px 1px 2px rgba(0, 0, 0, 0.3));\n",
              "      fill: #FFFFFF;\n",
              "    }\n",
              "  </style>\n",
              "\n",
              "    <script>\n",
              "      const buttonEl =\n",
              "        document.querySelector('#df-10bf7c61-08af-4bbf-bfe7-4627f864e13f button.colab-df-convert');\n",
              "      buttonEl.style.display =\n",
              "        google.colab.kernel.accessAllowed ? 'block' : 'none';\n",
              "\n",
              "      async function convertToInteractive(key) {\n",
              "        const element = document.querySelector('#df-10bf7c61-08af-4bbf-bfe7-4627f864e13f');\n",
              "        const dataTable =\n",
              "          await google.colab.kernel.invokeFunction('convertToInteractive',\n",
              "                                                    [key], {});\n",
              "        if (!dataTable) return;\n",
              "\n",
              "        const docLinkHtml = 'Like what you see? Visit the ' +\n",
              "          '<a target=\"_blank\" href=https://colab.research.google.com/notebooks/data_table.ipynb>data table notebook</a>'\n",
              "          + ' to learn more about interactive tables.';\n",
              "        element.innerHTML = '';\n",
              "        dataTable['output_type'] = 'display_data';\n",
              "        await google.colab.output.renderOutput(dataTable, element);\n",
              "        const docLink = document.createElement('div');\n",
              "        docLink.innerHTML = docLinkHtml;\n",
              "        element.appendChild(docLink);\n",
              "      }\n",
              "    </script>\n",
              "  </div>\n",
              "\n",
              "\n",
              "<div id=\"df-bc146d42-e2c1-4e8a-9d1a-6572231d531c\">\n",
              "  <button class=\"colab-df-quickchart\" onclick=\"quickchart('df-bc146d42-e2c1-4e8a-9d1a-6572231d531c')\"\n",
              "            title=\"Suggest charts\"\n",
              "            style=\"display:none;\">\n",
              "\n",
              "<svg xmlns=\"http://www.w3.org/2000/svg\" height=\"24px\"viewBox=\"0 0 24 24\"\n",
              "     width=\"24px\">\n",
              "    <g>\n",
              "        <path d=\"M19 3H5c-1.1 0-2 .9-2 2v14c0 1.1.9 2 2 2h14c1.1 0 2-.9 2-2V5c0-1.1-.9-2-2-2zM9 17H7v-7h2v7zm4 0h-2V7h2v10zm4 0h-2v-4h2v4z\"/>\n",
              "    </g>\n",
              "</svg>\n",
              "  </button>\n",
              "\n",
              "<style>\n",
              "  .colab-df-quickchart {\n",
              "      --bg-color: #E8F0FE;\n",
              "      --fill-color: #1967D2;\n",
              "      --hover-bg-color: #E2EBFA;\n",
              "      --hover-fill-color: #174EA6;\n",
              "      --disabled-fill-color: #AAA;\n",
              "      --disabled-bg-color: #DDD;\n",
              "  }\n",
              "\n",
              "  [theme=dark] .colab-df-quickchart {\n",
              "      --bg-color: #3B4455;\n",
              "      --fill-color: #D2E3FC;\n",
              "      --hover-bg-color: #434B5C;\n",
              "      --hover-fill-color: #FFFFFF;\n",
              "      --disabled-bg-color: #3B4455;\n",
              "      --disabled-fill-color: #666;\n",
              "  }\n",
              "\n",
              "  .colab-df-quickchart {\n",
              "    background-color: var(--bg-color);\n",
              "    border: none;\n",
              "    border-radius: 50%;\n",
              "    cursor: pointer;\n",
              "    display: none;\n",
              "    fill: var(--fill-color);\n",
              "    height: 32px;\n",
              "    padding: 0;\n",
              "    width: 32px;\n",
              "  }\n",
              "\n",
              "  .colab-df-quickchart:hover {\n",
              "    background-color: var(--hover-bg-color);\n",
              "    box-shadow: 0 1px 2px rgba(60, 64, 67, 0.3), 0 1px 3px 1px rgba(60, 64, 67, 0.15);\n",
              "    fill: var(--button-hover-fill-color);\n",
              "  }\n",
              "\n",
              "  .colab-df-quickchart-complete:disabled,\n",
              "  .colab-df-quickchart-complete:disabled:hover {\n",
              "    background-color: var(--disabled-bg-color);\n",
              "    fill: var(--disabled-fill-color);\n",
              "    box-shadow: none;\n",
              "  }\n",
              "\n",
              "  .colab-df-spinner {\n",
              "    border: 2px solid var(--fill-color);\n",
              "    border-color: transparent;\n",
              "    border-bottom-color: var(--fill-color);\n",
              "    animation:\n",
              "      spin 1s steps(1) infinite;\n",
              "  }\n",
              "\n",
              "  @keyframes spin {\n",
              "    0% {\n",
              "      border-color: transparent;\n",
              "      border-bottom-color: var(--fill-color);\n",
              "      border-left-color: var(--fill-color);\n",
              "    }\n",
              "    20% {\n",
              "      border-color: transparent;\n",
              "      border-left-color: var(--fill-color);\n",
              "      border-top-color: var(--fill-color);\n",
              "    }\n",
              "    30% {\n",
              "      border-color: transparent;\n",
              "      border-left-color: var(--fill-color);\n",
              "      border-top-color: var(--fill-color);\n",
              "      border-right-color: var(--fill-color);\n",
              "    }\n",
              "    40% {\n",
              "      border-color: transparent;\n",
              "      border-right-color: var(--fill-color);\n",
              "      border-top-color: var(--fill-color);\n",
              "    }\n",
              "    60% {\n",
              "      border-color: transparent;\n",
              "      border-right-color: var(--fill-color);\n",
              "    }\n",
              "    80% {\n",
              "      border-color: transparent;\n",
              "      border-right-color: var(--fill-color);\n",
              "      border-bottom-color: var(--fill-color);\n",
              "    }\n",
              "    90% {\n",
              "      border-color: transparent;\n",
              "      border-bottom-color: var(--fill-color);\n",
              "    }\n",
              "  }\n",
              "</style>\n",
              "\n",
              "  <script>\n",
              "    async function quickchart(key) {\n",
              "      const quickchartButtonEl =\n",
              "        document.querySelector('#' + key + ' button');\n",
              "      quickchartButtonEl.disabled = true;  // To prevent multiple clicks.\n",
              "      quickchartButtonEl.classList.add('colab-df-spinner');\n",
              "      try {\n",
              "        const charts = await google.colab.kernel.invokeFunction(\n",
              "            'suggestCharts', [key], {});\n",
              "      } catch (error) {\n",
              "        console.error('Error during call to suggestCharts:', error);\n",
              "      }\n",
              "      quickchartButtonEl.classList.remove('colab-df-spinner');\n",
              "      quickchartButtonEl.classList.add('colab-df-quickchart-complete');\n",
              "    }\n",
              "    (() => {\n",
              "      let quickchartButtonEl =\n",
              "        document.querySelector('#df-bc146d42-e2c1-4e8a-9d1a-6572231d531c button');\n",
              "      quickchartButtonEl.style.display =\n",
              "        google.colab.kernel.accessAllowed ? 'block' : 'none';\n",
              "    })();\n",
              "  </script>\n",
              "</div>\n",
              "\n",
              "    </div>\n",
              "  </div>\n"
            ],
            "text/plain": [
              "                                               Fine name  pdfsize  \\\n",
              "10021  908f8e3411d1bdf5e0fa7ca953c85cc4f133729fd4c71a...    529.0   \n",
              "10022  72654b36f6a240d953a9ce3e898a4dfa381031ba7f5e2a...     73.0   \n",
              "10023  dad02289bc442e235961f4cf87cbde364a2250bdc57632...      4.0   \n",
              "10024  b219390e223ea263476d65277d00804cfd0a93023e1903...     38.0   \n",
              "10025  b76c4910d7c637f32ebf175247d489a311c2a584a1ac6d...      2.0   \n",
              "\n",
              "       metadata size  pages  xref Length  title characters  isEncrypted  \\\n",
              "10021          296.0    1.0         87.0               8.0          0.0   \n",
              "10022          314.0    1.0         16.0               3.0          0.0   \n",
              "10023          377.0    2.0         13.0              11.0          0.0   \n",
              "10024          338.0    1.0     200006.0              13.0          0.0   \n",
              "10025          180.0    1.0         11.0               0.0          0.0   \n",
              "\n",
              "       embedded files images     text  ...  AA OpenAction Acroform  \\\n",
              "10021             0.0      3       No  ...   0          1        0   \n",
              "10022             0.0     -1  unclear  ...   0          1        0   \n",
              "10023             0.0      0      Yes  ...   0          1        0   \n",
              "10024             0.0      0      Yes  ...   0          1        0   \n",
              "10025             1.0      0      Yes  ...  23          0        0   \n",
              "\n",
              "       JBIG2Decode RichMedia launch  EmbeddedFile XFA Colors      Class  \n",
              "10021            0         0      0             0   0    0.0  Malicious  \n",
              "10022            0         0      0             0   0    0.0  Malicious  \n",
              "10023            0         0      0             0   0    0.0  Malicious  \n",
              "10024            0         0      0             0   0    0.0  Malicious  \n",
              "10025            0         0      0             0   0    0.0  Malicious  \n",
              "\n",
              "[5 rows x 33 columns]"
            ]
          },
          "execution_count": 5,
          "metadata": {},
          "output_type": "execute_result"
        }
      ],
      "source": [
        "ds.tail()"
      ]
    },
    {
      "cell_type": "code",
      "execution_count": null,
      "metadata": {
        "id": "XkxXf56VE1Rm"
      },
      "outputs": [],
      "source": [
        "sb.set(rc={'figure.figsize':(16,11)})"
      ]
    },
    {
      "cell_type": "code",
      "execution_count": null,
      "metadata": {
        "id": "qHAVNMYpFGNz"
      },
      "outputs": [],
      "source": [
        "estimators = [\n",
        "    ('svc', make_pipeline(StandardScaler(), LinearSVC(max_iter = 2000))),\n",
        "    ('mlp', make_pipeline(StandardScaler(), MLPClassifier(max_iter = 300))),\n",
        "    ('RF', make_pipeline(StandardScaler(), RandomForestClassifier(n_estimators=100))),\n",
        "    ('adc', make_pipeline(StandardScaler(), AdaBoostClassifier(n_estimators=100)))\n",
        "]\n",
        "model = StackingClassifier(estimators = estimators, final_estimator=LogisticRegression())\n",
        "modelver2 = StackingClassifier(estimators = estimators, final_estimator=LogisticRegression())"
      ]
    },
    {
      "cell_type": "code",
      "execution_count": null,
      "metadata": {
        "id": "aUEZnLDZKy0f"
      },
      "outputs": [],
      "source": [
        "ds.dropna(inplace=True)\n",
        "ds['Class'].replace('Malicious', 1, inplace=True)\n",
        "ds['Class'].replace('Benign', 0, inplace=True)"
      ]
    },
    {
      "cell_type": "code",
      "execution_count": null,
      "metadata": {
        "colab": {
          "base_uri": "https://localhost:8080/"
        },
        "id": "VnH43pRAHntA",
        "outputId": "756a3ef0-5ad0-4ad2-f0d7-29527de4cc17"
      },
      "outputs": [
        {
          "output_type": "stream",
          "name": "stdout",
          "text": [
            "<class 'pandas.core.frame.DataFrame'>\n",
            "Index: 10023 entries, 0 to 10025\n",
            "Data columns (total 33 columns):\n",
            " #   Column            Non-Null Count  Dtype  \n",
            "---  ------            --------------  -----  \n",
            " 0   Fine name         10023 non-null  object \n",
            " 1   pdfsize           10023 non-null  float64\n",
            " 2   metadata size     10023 non-null  float64\n",
            " 3   pages             10023 non-null  float64\n",
            " 4   xref Length       10023 non-null  float64\n",
            " 5   title characters  10023 non-null  float64\n",
            " 6   isEncrypted       10023 non-null  float64\n",
            " 7   embedded files    10023 non-null  float64\n",
            " 8   images            10023 non-null  object \n",
            " 9   text              10023 non-null  object \n",
            " 10  header            10023 non-null  object \n",
            " 11  obj               10023 non-null  object \n",
            " 12  endobj            10023 non-null  object \n",
            " 13  stream            10023 non-null  float64\n",
            " 14  endstream         10023 non-null  object \n",
            " 15  xref              10023 non-null  object \n",
            " 16  trailer           10023 non-null  float64\n",
            " 17  startxref         10023 non-null  object \n",
            " 18  pageno            10023 non-null  object \n",
            " 19  encrypt           10023 non-null  float64\n",
            " 20  ObjStm            10023 non-null  float64\n",
            " 21  JS                10023 non-null  object \n",
            " 22  Javascript        10023 non-null  object \n",
            " 23  AA                10023 non-null  object \n",
            " 24  OpenAction        10023 non-null  object \n",
            " 25  Acroform          10023 non-null  object \n",
            " 26  JBIG2Decode       10023 non-null  object \n",
            " 27  RichMedia         10023 non-null  object \n",
            " 28  launch            10023 non-null  object \n",
            " 29  EmbeddedFile      10023 non-null  object \n",
            " 30  XFA               10023 non-null  object \n",
            " 31  Colors            10023 non-null  float64\n",
            " 32  Class             10023 non-null  int64  \n",
            "dtypes: float64(12), int64(1), object(20)\n",
            "memory usage: 2.6+ MB\n"
          ]
        }
      ],
      "source": [
        "ds.info()"
      ]
    },
    {
      "cell_type": "code",
      "execution_count": null,
      "metadata": {
        "colab": {
          "base_uri": "https://localhost:8080/"
        },
        "id": "x5wQa_g5KxjE",
        "outputId": "169b5e6a-826c-4a36-a545-f96d77a71437"
      },
      "outputs": [
        {
          "data": {
            "text/plain": [
              "array(['0', '8', '9', '3', '1', '2', '-1', '1(1)', '12(2)', '6', '5', '4',\n",
              "       '17', '10', '11', '14', '13', '12', '15'], dtype=object)"
            ]
          },
          "execution_count": 10,
          "metadata": {},
          "output_type": "execute_result"
        }
      ],
      "source": [
        "ds['EmbeddedFile'].unique()"
      ]
    },
    {
      "cell_type": "code",
      "execution_count": null,
      "metadata": {
        "colab": {
          "base_uri": "https://localhost:8080/"
        },
        "id": "lj4lSQ87txr6",
        "outputId": "6e95607d-7239-4ee1-aa1d-2d8333eead91"
      },
      "outputs": [
        {
          "data": {
            "text/plain": [
              "array([ 0.,  1., -1.,  2.,  5.,  3.,  4.])"
            ]
          },
          "execution_count": 11,
          "metadata": {},
          "output_type": "execute_result"
        }
      ],
      "source": [
        "ds['embedded files'].unique()"
      ]
    },
    {
      "cell_type": "code",
      "execution_count": null,
      "metadata": {
        "colab": {
          "base_uri": "https://localhost:8080/",
          "height": 781
        },
        "id": "m-TIZHr-Erge",
        "outputId": "79cba78f-1f06-41ab-f1d6-9e0e6c27d8f8"
      },
      "outputs": [
        {
          "data": {
            "text/plain": [
              "<Axes: >"
            ]
          },
          "execution_count": 13,
          "metadata": {},
          "output_type": "execute_result"
        },
        {
          "data": {
            "image/png": "[encoded data removed]",
            "text/plain": [
              "<Figure size 1600x1100 with 2 Axes>"
            ]
          },
          "metadata": {},
          "output_type": "display_data"
        }
      ],
      "source": [
        "numeric_ds = ds.select_dtypes(include=['number'])\n",
        "sb.heatmap(numeric_ds.corr(), annot=True)"
      ]
    },
    {
      "cell_type": "markdown",
      "metadata": {
        "id": "CrGFomgykLWk"
      },
      "source": [
        "## Part 1: Removing all non-numerical values from the dataset and training on only numerical values"
      ]
    },
    {
      "cell_type": "code",
      "execution_count": null,
      "metadata": {
        "colab": {
          "background_save": true
        },
        "id": "iT3stzObPx0B"
      },
      "outputs": [],
      "source": [
        "df1 = ds.copy()\n",
        "df1 = df1.select_dtypes(exclude=['object'])"
      ]
    },
    {
      "cell_type": "code",
      "execution_count": null,
      "metadata": {
        "colab": {
          "background_save": true
        },
        "id": "S96Pa8GeLc8F",
        "outputId": "f346ba58-0168-4617-ebc7-bc73caae4897"
      },
      "outputs": [
        {
          "name": "stdout",
          "output_type": "stream",
          "text": [
            "<class 'pandas.core.frame.DataFrame'>\n",
            "Index: 10023 entries, 0 to 10025\n",
            "Data columns (total 13 columns):\n",
            " #   Column            Non-Null Count  Dtype  \n",
            "---  ------            --------------  -----  \n",
            " 0   pdfsize           10023 non-null  float64\n",
            " 1   metadata size     10023 non-null  float64\n",
            " 2   pages             10023 non-null  float64\n",
            " 3   xref Length       10023 non-null  float64\n",
            " 4   title characters  10023 non-null  float64\n",
            " 5   isEncrypted       10023 non-null  float64\n",
            " 6   embedded files    10023 non-null  float64\n",
            " 7   stream            10023 non-null  float64\n",
            " 8   trailer           10023 non-null  float64\n",
            " 9   encrypt           10023 non-null  float64\n",
            " 10  ObjStm            10023 non-null  float64\n",
            " 11  Colors            10023 non-null  float64\n",
            " 12  Class             10023 non-null  int64  \n",
            "dtypes: float64(12), int64(1)\n",
            "memory usage: 1.1 MB\n"
          ]
        }
      ],
      "source": [
        "df1.info()"
      ]
    },
    {
      "cell_type": "code",
      "execution_count": null,
      "metadata": {
        "colab": {
          "background_save": true
        },
        "id": "IGvmfhx4LgIK"
      },
      "outputs": [],
      "source": [
        "y_data = df1['Class']\n",
        "x_data = df1.drop('Class', axis=1)"
      ]
    },
    {
      "cell_type": "code",
      "execution_count": null,
      "metadata": {
        "colab": {
          "background_save": true
        },
        "id": "pXrf8QFcLry9"
      },
      "outputs": [],
      "source": [
        "x_train, x_test, y_train, y_test = train_test_split(x_data, y_data, test_size=0.30)"
      ]
    },
    {
      "cell_type": "code",
      "execution_count": null,
      "metadata": {
        "colab": {
          "background_save": true
        },
        "id": "r4UovNBLXS4d",
        "outputId": "2bd28f6e-aa76-4c94-82b6-704f8368bd77"
      },
      "outputs": [
        {
          "data": {
            "text/plain": [
              "(3007,)"
            ]
          },
          "execution_count": 18,
          "metadata": {},
          "output_type": "execute_result"
        }
      ],
      "source": [
        "y_test.shape"
      ]
    },
    {
      "cell_type": "code",
      "execution_count": null,
      "metadata": {
        "id": "RO29NMBaLwjz"
      },
      "outputs": [],
      "source": [
        "model.fit(x_train, y_train).score(x_test, y_test)"
      ]
    },
    {
      "cell_type": "code",
      "execution_count": null,
      "metadata": {
        "id": "AAMFJExrpsxO"
      },
      "outputs": [],
      "source": [
        "predictions = model.predict(x_test)\n",
        "print(\"Accuracy: \", metrics.accuracy_score(predictions, y_test))\n",
        "print(\"Precision: \", metrics.average_precision_score(predictions, y_test))\n",
        "print(\"F1 score: \", metrics.f1_score(predictions, y_test))"
      ]
    },
    {
      "cell_type": "markdown",
      "metadata": {
        "id": "evWogUCcmE-b"
      },
      "source": [
        "**Final accuracy is 98.8%. Both of Precision and F1 score are lower than the paper's**"
      ]
    },
    {
      "cell_type": "markdown",
      "metadata": {
        "id": "mtcKax36lMJh"
      },
      "source": [
        "## Part 2: Doing some data manipulation"
      ]
    },
    {
      "cell_type": "code",
      "execution_count": null,
      "metadata": {
        "id": "bbTkZPd4l0fW"
      },
      "outputs": [],
      "source": [
        "df2 = ds.copy()"
      ]
    },
    {
      "cell_type": "code",
      "execution_count": null,
      "metadata": {
        "colab": {
          "base_uri": "https://localhost:8080/"
        },
        "id": "FuONnlFo7zGI",
        "outputId": "93a63e00-e79e-4a45-f640-4734718038df"
      },
      "outputs": [
        {
          "name": "stdout",
          "output_type": "stream",
          "text": [
            "<class 'pandas.core.frame.DataFrame'>\n",
            "Index: 10023 entries, 0 to 10025\n",
            "Data columns (total 33 columns):\n",
            " #   Column            Non-Null Count  Dtype  \n",
            "---  ------            --------------  -----  \n",
            " 0   Fine name         10023 non-null  object \n",
            " 1   pdfsize           10023 non-null  float64\n",
            " 2   metadata size     10023 non-null  float64\n",
            " 3   pages             10023 non-null  float64\n",
            " 4   xref Length       10023 non-null  float64\n",
            " 5   title characters  10023 non-null  float64\n",
            " 6   isEncrypted       10023 non-null  float64\n",
            " 7   embedded files    10023 non-null  float64\n",
            " 8   images            10023 non-null  object \n",
            " 9   text              10023 non-null  object \n",
            " 10  header            10023 non-null  object \n",
            " 11  obj               10023 non-null  object \n",
            " 12  endobj            10023 non-null  object \n",
            " 13  stream            10023 non-null  float64\n",
            " 14  endstream         10023 non-null  object \n",
            " 15  xref              10023 non-null  object \n",
            " 16  trailer           10023 non-null  float64\n",
            " 17  startxref         10023 non-null  object \n",
            " 18  pageno            10023 non-null  object \n",
            " 19  encrypt           10023 non-null  float64\n",
            " 20  ObjStm            10023 non-null  float64\n",
            " 21  JS                10023 non-null  object \n",
            " 22  Javascript        10023 non-null  object \n",
            " 23  AA                10023 non-null  object \n",
            " 24  OpenAction        10023 non-null  object \n",
            " 25  Acroform          10023 non-null  object \n",
            " 26  JBIG2Decode       10023 non-null  object \n",
            " 27  RichMedia         10023 non-null  object \n",
            " 28  launch            10023 non-null  object \n",
            " 29  EmbeddedFile      10023 non-null  object \n",
            " 30  XFA               10023 non-null  object \n",
            " 31  Colors            10023 non-null  float64\n",
            " 32  Class             10023 non-null  int64  \n",
            "dtypes: float64(12), int64(1), object(20)\n",
            "memory usage: 2.6+ MB\n"
          ]
        }
      ],
      "source": [
        "df2.info()"
      ]
    },
    {
      "cell_type": "code",
      "execution_count": null,
      "metadata": {
        "id": "IFedNE3jMZIT"
      },
      "outputs": [],
      "source": [
        "df2['text'].replace('No', 0, inplace=True)\n",
        "df2['text'].replace('unclear', 0, inplace=True)\n",
        "df2['text'].replace('Yes', 1, inplace=True)\n",
        "df2['text'].replace('0', 0, inplace=True)\n",
        "df2['text'].replace('-1', 0, inplace=True)\n",
        "\n",
        "df2['XFA'].replace('1(1)', 1, inplace=True)\n",
        "df2['XFA'] = df2['XFA'].astype('int32')\n",
        "\n",
        "df2['OpenAction'].replace('1(1)', 1, inplace=True)\n",
        "df2['OpenAction'].replace('12(2)', 12, inplace=True)\n",
        "df2['OpenAction'] = df2['OpenAction'].astype('int32')\n",
        "\n",
        "df2['AA'].replace('1(1)', 1, inplace=True)\n",
        "df2['AA'].replace('-1', 0, inplace=True)\n",
        "df2['AA'] = df2['AA'].astype('int32')\n",
        "\n",
        "df2['EmbeddedFile'].replace('1(1)', 1, inplace=True)\n",
        "df2['EmbeddedFile'].replace('-1', 0, inplace=True)\n",
        "df2['EmbeddedFile'].replace('12(2)', 12, inplace=True)\n",
        "df2['EmbeddedFile'] = df2['EmbeddedFile'].astype('int32')\n",
        "\n",
        "df2['Acroform'].replace('-1', 0, inplace=True)\n",
        "df2['Acroform'].replace('1(1)', 1, inplace=True)\n",
        "df2['Acroform'] = df2['Acroform'].astype('int32')\n",
        "\n",
        "df2['launch'].replace('-1', 0, inplace=True)\n",
        "df2['launch'].replace('1(1)', 1, inplace=True)\n",
        "df2['launch'] = df2['launch'].astype('int32')\n",
        "\n",
        "df2['JBIG2Decode'].replace('-1', 0, inplace=True)\n",
        "df2['JBIG2Decode'].replace('1(1)', 1, inplace=True)\n",
        "df2['JBIG2Decode'] = df2['JBIG2Decode'].astype('int32')\n",
        "\n",
        "df2['RichMedia'].replace('1(1)', 1, inplace=True)\n",
        "df2['RichMedia'].replace('-1', 0, inplace=True)\n",
        "df2['RichMedia'].replace('2(2)', 2, inplace=True)\n",
        "df2['RichMedia'] = df2['RichMedia'].astype('int32')\n",
        "#Precious\n",
        "df2['images'].replace('1(1)', '1', inplace=True)\n",
        "df2['images'] = df2['images'].astype('int32')\n",
        "\n",
        "df2['endobj'].replace('pdfid.py', '1099', inplace=True)\n",
        "df2['endobj'] = df2['endobj'].astype('int32')\n",
        "\n",
        "df2['JS'].replace('1(1)', '1', inplace=True)\n",
        "df2['JS'].replace('29(2)', '29', inplace=True)\n",
        "df2['JS'].replace('2(2)', '2', inplace=True)\n",
        "df2['JS'] = df2['JS'].astype('int32')\n",
        "\n",
        "df2 = df2.drop(df2[df2['xref'] == 'pdfid.py'].index)\n",
        "df2['xref'] = df2['xref'].astype('int32')\n",
        "\n",
        "df2 = df2.drop(\"encrypt\", axis = 1)"
      ]
    },
    {
      "cell_type": "code",
      "execution_count": null,
      "metadata": {
        "colab": {
          "base_uri": "https://localhost:8080/"
        },
        "id": "UKoJVrCr8GLO",
        "outputId": "6b35efb4-22d7-4eb1-ab9f-cfba94980a11"
      },
      "outputs": [
        {
          "output_type": "stream",
          "name": "stdout",
          "text": [
            "<class 'pandas.core.frame.DataFrame'>\n",
            "Index: 10001 entries, 0 to 10025\n",
            "Data columns (total 32 columns):\n",
            " #   Column            Non-Null Count  Dtype  \n",
            "---  ------            --------------  -----  \n",
            " 0   Fine name         10001 non-null  object \n",
            " 1   pdfsize           10001 non-null  float64\n",
            " 2   metadata size     10001 non-null  float64\n",
            " 3   pages             10001 non-null  float64\n",
            " 4   xref Length       10001 non-null  float64\n",
            " 5   title characters  10001 non-null  float64\n",
            " 6   isEncrypted       10001 non-null  float64\n",
            " 7   embedded files    10001 non-null  float64\n",
            " 8   images            10001 non-null  int32  \n",
            " 9   text              10001 non-null  int64  \n",
            " 10  header            10001 non-null  object \n",
            " 11  obj               10001 non-null  object \n",
            " 12  endobj            10001 non-null  int32  \n",
            " 13  stream            10001 non-null  float64\n",
            " 14  endstream         10001 non-null  object \n",
            " 15  xref              10001 non-null  int32  \n",
            " 16  trailer           10001 non-null  float64\n",
            " 17  startxref         10001 non-null  object \n",
            " 18  pageno            10001 non-null  object \n",
            " 19  ObjStm            10001 non-null  float64\n",
            " 20  JS                10001 non-null  int32  \n",
            " 21  Javascript        10001 non-null  object \n",
            " 22  AA                10001 non-null  int32  \n",
            " 23  OpenAction        10001 non-null  int32  \n",
            " 24  Acroform          10001 non-null  int32  \n",
            " 25  JBIG2Decode       10001 non-null  int32  \n",
            " 26  RichMedia         10001 non-null  int32  \n",
            " 27  launch            10001 non-null  int32  \n",
            " 28  EmbeddedFile      10001 non-null  int32  \n",
            " 29  XFA               10001 non-null  int32  \n",
            " 30  Colors            10001 non-null  float64\n",
            " 31  Class             10001 non-null  int64  \n",
            "dtypes: float64(11), int32(12), int64(2), object(7)\n",
            "memory usage: 2.1+ MB\n"
          ]
        }
      ],
      "source": [
        "df2.info()"
      ]
    },
    {
      "cell_type": "code",
      "execution_count": null,
      "metadata": {
        "id": "WhnAmWXSmZKy"
      },
      "outputs": [],
      "source": [
        "df2 = df2.select_dtypes(exclude=['object'])"
      ]
    },
    {
      "cell_type": "code",
      "execution_count": null,
      "metadata": {
        "colab": {
          "base_uri": "https://localhost:8080/"
        },
        "id": "aVAEJOUDM20S",
        "outputId": "d1113421-5c57-4c73-da13-47182cbebfe1"
      },
      "outputs": [
        {
          "output_type": "stream",
          "name": "stdout",
          "text": [
            "<class 'pandas.core.frame.DataFrame'>\n",
            "Index: 10001 entries, 0 to 10025\n",
            "Data columns (total 25 columns):\n",
            " #   Column            Non-Null Count  Dtype  \n",
            "---  ------            --------------  -----  \n",
            " 0   pdfsize           10001 non-null  float64\n",
            " 1   metadata size     10001 non-null  float64\n",
            " 2   pages             10001 non-null  float64\n",
            " 3   xref Length       10001 non-null  float64\n",
            " 4   title characters  10001 non-null  float64\n",
            " 5   isEncrypted       10001 non-null  float64\n",
            " 6   embedded files    10001 non-null  float64\n",
            " 7   images            10001 non-null  int32  \n",
            " 8   text              10001 non-null  int64  \n",
            " 9   endobj            10001 non-null  int32  \n",
            " 10  stream            10001 non-null  float64\n",
            " 11  xref              10001 non-null  int32  \n",
            " 12  trailer           10001 non-null  float64\n",
            " 13  ObjStm            10001 non-null  float64\n",
            " 14  JS                10001 non-null  int32  \n",
            " 15  AA                10001 non-null  int32  \n",
            " 16  OpenAction        10001 non-null  int32  \n",
            " 17  Acroform          10001 non-null  int32  \n",
            " 18  JBIG2Decode       10001 non-null  int32  \n",
            " 19  RichMedia         10001 non-null  int32  \n",
            " 20  launch            10001 non-null  int32  \n",
            " 21  EmbeddedFile      10001 non-null  int32  \n",
            " 22  XFA               10001 non-null  int32  \n",
            " 23  Colors            10001 non-null  float64\n",
            " 24  Class             10001 non-null  int64  \n",
            "dtypes: float64(11), int32(12), int64(2)\n",
            "memory usage: 1.5 MB\n"
          ]
        }
      ],
      "source": [
        "df2.info()"
      ]
    },
    {
      "cell_type": "code",
      "execution_count": null,
      "metadata": {
        "id": "oNEtFUaUXhkv"
      },
      "outputs": [],
      "source": [
        "y_data2 = df2['Class']\n",
        "x_data2 = df2.drop('Class', axis=1)\n",
        "x_train2, x_test2, y_train2, y_test2 = train_test_split(x_data2, y_data2, test_size=0.30)"
      ]
    },
    {
      "cell_type": "markdown",
      "metadata": {
        "id": "fp81aW7vjjCb"
      },
      "source": [
        "## This is expirments"
      ]
    },
    {
      "cell_type": "code",
      "execution_count": null,
      "metadata": {
        "id": "0-XZDb13MUN9"
      },
      "outputs": [],
      "source": [
        "model.fit(x_train2, y_train2)\n",
        "predictions123 = model.predict(x_test2)\n",
        "print('The dropped column is none')\n",
        "print(\"Accuracy: \", metrics.accuracy_score(predictions123, y_test2) * 100)\n",
        "print(\"Precision: \", metrics.average_precision_score(predictions123, y_test2) * 100)\n",
        "print(\"F1 score: \", metrics.f1_score(predictions123, y_test2) * 100)\n",
        "print(\"\\n\")\n",
        "none_accuracy =  metrics.accuracy_score(predictions123, y_test2) * 100"
      ]
    },
    {
      "cell_type": "code",
      "execution_count": null,
      "metadata": {
        "id": "VP_ZkTVZqRGd"
      },
      "outputs": [],
      "source": [
        "data = x_train2.drop('pdfsize', axis=1)\n",
        "testdata = x_test2.drop('pdfsize', axis=1)\n",
        "model.fit(data, y_train2)\n",
        "predictions = model.predict(testdata)\n",
        "print(\"Accuracy: \", metrics.accuracy_score(predictions, y_test2) * 100)\n",
        "print(\"Precision: \", metrics.average_precision_score(predictions, y_test2) * 100)\n",
        "print(\"F1 score: \", metrics.f1_score(predictions, y_test2) * 100)\n",
        "increasePercent = (metrics.accuracy_score(predictions, y_test2) * 100 / none_accuracy * 100) - 100\n",
        "print(\"Increase Percent: \", increasePercent)"
      ]
    },
    {
      "cell_type": "code",
      "execution_count": null,
      "metadata": {
        "id": "HaoVfGA8Mob5"
      },
      "outputs": [],
      "source": [
        "data = x_train2.drop('metadata size', axis=1)\n",
        "testdata = x_test2.drop('metadata size', axis=1)\n",
        "model.fit(data, y_train2)\n",
        "predictions = model.predict(testdata)\n",
        "print(\"Accuracy: \", metrics.accuracy_score(predictions, y_test2) * 100)\n",
        "print(\"Precision: \", metrics.average_precision_score(predictions, y_test2) * 100)\n",
        "print(\"F1 score: \", metrics.f1_score(predictions, y_test2) * 100)\n",
        "increasePercent = (metrics.accuracy_score(predictions, y_test2) * 100 / none_accuracy * 100) - 100\n",
        "print(\"Increase Percent: \", increasePercent)"
      ]
    },
    {
      "cell_type": "code",
      "execution_count": null,
      "metadata": {
        "id": "HOo7fm6qMpFm"
      },
      "outputs": [],
      "source": [
        "data = x_train2.drop('pages', axis=1)\n",
        "testdata = x_test2.drop('pages', axis=1)\n",
        "model.fit(data, y_train2)\n",
        "predictions = model.predict(testdata)\n",
        "print(\"Accuracy: \", metrics.accuracy_score(predictions, y_test2) * 100)\n",
        "print(\"Precision: \", metrics.average_precision_score(predictions, y_test2) * 100)\n",
        "print(\"F1 score: \", metrics.f1_score(predictions, y_test2) * 100)\n",
        "increasePercent = (metrics.accuracy_score(predictions, y_test2) * 100 / none_accuracy * 100) - 100\n",
        "print(\"Increase Percent: \", increasePercent)"
      ]
    },
    {
      "cell_type": "code",
      "execution_count": null,
      "metadata": {
        "id": "PCgT-DJ0Mp4Y"
      },
      "outputs": [],
      "source": [
        "data = x_train2.drop('xref Length', axis=1)\n",
        "testdata = x_test2.drop('xref Length', axis=1)\n",
        "model.fit(data, y_train2)\n",
        "predictions = model.predict(testdata)\n",
        "print(\"Accuracy: \", metrics.accuracy_score(predictions, y_test2) * 100)\n",
        "print(\"Precision: \", metrics.average_precision_score(predictions, y_test2) * 100)\n",
        "print(\"F1 score: \", metrics.f1_score(predictions, y_test2) * 100)\n",
        "increasePercent = (metrics.accuracy_score(predictions, y_test2) * 100 / none_accuracy * 100) - 100\n",
        "print(\"Increase Percent: \", increasePercent)"
      ]
    },
    {
      "cell_type": "code",
      "execution_count": null,
      "metadata": {
        "id": "uzFyBzRUMqdA"
      },
      "outputs": [],
      "source": [
        "data = x_train2.drop('title characters', axis=1)\n",
        "testdata = x_test2.drop('title characters', axis=1)\n",
        "model.fit(data, y_train2)\n",
        "predictions = model.predict(testdata)\n",
        "print(\"Accuracy: \", metrics.accuracy_score(predictions, y_test2) * 100)\n",
        "print(\"Precision: \", metrics.average_precision_score(predictions, y_test2) * 100)\n",
        "print(\"F1 score: \", metrics.f1_score(predictions, y_test2) * 100)\n",
        "increasePercent = (metrics.accuracy_score(predictions, y_test2) * 100 / none_accuracy * 100) - 100\n",
        "print(\"Increase Percent: \", increasePercent)"
      ]
    },
    {
      "cell_type": "code",
      "execution_count": null,
      "metadata": {
        "id": "EiWAbYFMMq9S"
      },
      "outputs": [],
      "source": [
        "data = x_train2.drop('isEncrypted', axis=1)\n",
        "testdata = x_test2.drop('isEncrypted', axis=1)\n",
        "model.fit(data, y_train2)\n",
        "predictions = model.predict(testdata)\n",
        "print(\"Accuracy: \", metrics.accuracy_score(predictions, y_test2) * 100)\n",
        "print(\"Precision: \", metrics.average_precision_score(predictions, y_test2) * 100)\n",
        "print(\"F1 score: \", metrics.f1_score(predictions, y_test2) * 100)\n",
        "increasePercent = (metrics.accuracy_score(predictions, y_test2) * 100 / none_accuracy * 100) - 100\n",
        "print(\"Increase Percent: \", increasePercent)"
      ]
    },
    {
      "cell_type": "code",
      "execution_count": null,
      "metadata": {
        "id": "MC-9d-YtMrjl"
      },
      "outputs": [],
      "source": [
        "data = x_train2.drop('embedded files', axis=1)\n",
        "testdata = x_test2.drop('embedded files', axis=1)\n",
        "model.fit(data, y_train2)\n",
        "predictions = model.predict(testdata)\n",
        "print(\"Accuracy: \", metrics.accuracy_score(predictions, y_test2) * 100)\n",
        "print(\"Precision: \", metrics.average_precision_score(predictions, y_test2) * 100)\n",
        "print(\"F1 score: \", metrics.f1_score(predictions, y_test2) * 100)\n",
        "increasePercent = (metrics.accuracy_score(predictions, y_test2) * 100 / none_accuracy * 100) - 100\n",
        "print(\"Increase Percent: \", increasePercent)"
      ]
    },
    {
      "cell_type": "code",
      "execution_count": null,
      "metadata": {
        "id": "B8T8hcFwMsAe"
      },
      "outputs": [],
      "source": [
        "data = x_train2.drop('images', axis=1)\n",
        "testdata = x_test2.drop('images', axis=1)\n",
        "model.fit(data, y_train2)\n",
        "predictions = model.predict(testdata)\n",
        "print(\"Accuracy: \", metrics.accuracy_score(predictions, y_test2) * 100)\n",
        "print(\"Precision: \", metrics.average_precision_score(predictions, y_test2) * 100)\n",
        "print(\"F1 score: \", metrics.f1_score(predictions, y_test2) * 100)\n",
        "increasePercent = (metrics.accuracy_score(predictions, y_test2) * 100 / none_accuracy * 100) - 100\n",
        "print(\"Increase Percent: \", increasePercent)"
      ]
    },
    {
      "cell_type": "code",
      "execution_count": null,
      "metadata": {
        "id": "N0Fx1VxgMs9L"
      },
      "outputs": [],
      "source": [
        "data = x_train2.drop('text', axis=1)\n",
        "testdata = x_test2.drop('text', axis=1)\n",
        "model.fit(data, y_train2)\n",
        "predictions = model.predict(testdata)\n",
        "print(\"Accuracy: \", metrics.accuracy_score(predictions, y_test2) * 100)\n",
        "print(\"Precision: \", metrics.average_precision_score(predictions, y_test2) * 100)\n",
        "print(\"F1 score: \", metrics.f1_score(predictions, y_test2) * 100)\n",
        "increasePercent = (metrics.accuracy_score(predictions, y_test2) * 100 / none_accuracy * 100) - 100\n",
        "print(\"Increase Percent: \", increasePercent)"
      ]
    },
    {
      "cell_type": "code",
      "execution_count": null,
      "metadata": {
        "id": "gIdVUYngMuex"
      },
      "outputs": [],
      "source": [
        "data = x_train2.drop('endobj', axis=1)\n",
        "testdata = x_test2.drop('endobj', axis=1)\n",
        "model.fit(data, y_train2)\n",
        "predictions = model.predict(testdata)\n",
        "print(\"Accuracy: \", metrics.accuracy_score(predictions, y_test2) * 100)\n",
        "print(\"Precision: \", metrics.average_precision_score(predictions, y_test2) * 100)\n",
        "print(\"F1 score: \", metrics.f1_score(predictions, y_test2) * 100)\n",
        "increasePercent = (metrics.accuracy_score(predictions, y_test2) * 100 / none_accuracy * 100) - 100\n",
        "print(\"Increase Percent: \", increasePercent)"
      ]
    },
    {
      "cell_type": "code",
      "execution_count": null,
      "metadata": {
        "id": "GKMlIKl5Mu-h"
      },
      "outputs": [],
      "source": [
        "data = x_train2.drop('stream', axis=1)\n",
        "testdata = x_test2.drop('stream', axis=1)\n",
        "model.fit(data, y_train2)\n",
        "predictions = model.predict(testdata)\n",
        "print(\"Accuracy: \", metrics.accuracy_score(predictions, y_test2) * 100)\n",
        "print(\"Precision: \", metrics.average_precision_score(predictions, y_test2) * 100)\n",
        "print(\"F1 score: \", metrics.f1_score(predictions, y_test2) * 100)\n",
        "increasePercent = (metrics.accuracy_score(predictions, y_test2) * 100 / none_accuracy * 100) - 100\n",
        "print(\"Increase Percent: \", increasePercent)"
      ]
    },
    {
      "cell_type": "code",
      "execution_count": null,
      "metadata": {
        "id": "XH46Djo2Mvjj"
      },
      "outputs": [],
      "source": [
        "data = x_train2.drop('trailer', axis=1)\n",
        "testdata = x_test2.drop('trailer', axis=1)\n",
        "model.fit(data, y_train2)\n",
        "predictions = model.predict(testdata)\n",
        "print(\"Accuracy: \", metrics.accuracy_score(predictions, y_test2) * 100)\n",
        "print(\"Precision: \", metrics.average_precision_score(predictions, y_test2) * 100)\n",
        "print(\"F1 score: \", metrics.f1_score(predictions, y_test2) * 100)\n",
        "increasePercent = (metrics.accuracy_score(predictions, y_test2) * 100 / none_accuracy * 100) - 100\n",
        "print(\"Increase Percent: \", increasePercent)"
      ]
    },
    {
      "cell_type": "code",
      "execution_count": null,
      "metadata": {
        "id": "UygL1fE2MySy"
      },
      "outputs": [],
      "source": [
        "data = x_train2.drop('ObjStm', axis=1)\n",
        "testdata = x_test2.drop('ObjStm', axis=1)\n",
        "model.fit(data, y_train2)\n",
        "predictions = model.predict(testdata)\n",
        "print(\"Accuracy: \", metrics.accuracy_score(predictions, y_test2) * 100)\n",
        "print(\"Precision: \", metrics.average_precision_score(predictions, y_test2) * 100)\n",
        "print(\"F1 score: \", metrics.f1_score(predictions, y_test2) * 100)\n",
        "increasePercent = (metrics.accuracy_score(predictions, y_test2) * 100 / none_accuracy * 100) - 100\n",
        "print(\"Increase Percent: \", increasePercent)"
      ]
    },
    {
      "cell_type": "code",
      "execution_count": null,
      "metadata": {
        "id": "xtBWHpAJMyxM"
      },
      "outputs": [],
      "source": [
        "data = x_train2.drop('JS', axis=1)\n",
        "testdata = x_test2.drop('JS', axis=1)\n",
        "model.fit(data, y_train2)\n",
        "predictions = model.predict(testdata)\n",
        "print(\"Accuracy: \", metrics.accuracy_score(predictions, y_test2) * 100)\n",
        "print(\"Precision: \", metrics.average_precision_score(predictions, y_test2) * 100)\n",
        "print(\"F1 score: \", metrics.f1_score(predictions, y_test2) * 100)\n",
        "increasePercent = (metrics.accuracy_score(predictions, y_test2) * 100 / none_accuracy * 100) - 100\n",
        "print(\"Increase Percent: \", increasePercent)"
      ]
    },
    {
      "cell_type": "code",
      "execution_count": null,
      "metadata": {
        "id": "WrAQA0-kMzJ-"
      },
      "outputs": [],
      "source": [
        "data = x_train2.drop('AA', axis=1)\n",
        "testdata = x_test2.drop('AA', axis=1)\n",
        "model.fit(data, y_train2)\n",
        "predictions = model.predict(testdata)\n",
        "print(\"Accuracy: \", metrics.accuracy_score(predictions, y_test2) * 100)\n",
        "print(\"Precision: \", metrics.average_precision_score(predictions, y_test2) * 100)\n",
        "print(\"F1 score: \", metrics.f1_score(predictions, y_test2) * 100)\n",
        "increasePercent = (metrics.accuracy_score(predictions, y_test2) * 100 / none_accuracy * 100) - 100\n",
        "print(\"Increase Percent: \", increasePercent)"
      ]
    },
    {
      "cell_type": "code",
      "execution_count": null,
      "metadata": {
        "id": "Af_xHPDuNc-y"
      },
      "outputs": [],
      "source": [
        "data = x_train2.drop('OpenAction', axis=1)\n",
        "testdata = x_test2.drop('OpenAction', axis=1)\n",
        "model.fit(data, y_train2)\n",
        "predictions = model.predict(testdata)\n",
        "print(\"Accuracy: \", metrics.accuracy_score(predictions, y_test2) * 100)\n",
        "print(\"Precision: \", metrics.average_precision_score(predictions, y_test2) * 100)\n",
        "print(\"F1 score: \", metrics.f1_score(predictions, y_test2) * 100)\n",
        "increasePercent = (metrics.accuracy_score(predictions, y_test2) * 100 / none_accuracy * 100) - 100\n",
        "print(\"Increase Percent: \", increasePercent)"
      ]
    },
    {
      "cell_type": "code",
      "execution_count": null,
      "metadata": {
        "id": "Tk48hB9oNdjK"
      },
      "outputs": [],
      "source": [
        "data = x_train2.drop('Acroform', axis=1)\n",
        "testdata = x_test2.drop('Acroform', axis=1)\n",
        "model.fit(data, y_train2)\n",
        "predictions = model.predict(testdata)\n",
        "print(\"Accuracy: \", metrics.accuracy_score(predictions, y_test2) * 100)\n",
        "print(\"Precision: \", metrics.average_precision_score(predictions, y_test2) * 100)\n",
        "print(\"F1 score: \", metrics.f1_score(predictions, y_test2) * 100)\n",
        "increasePercent = (metrics.accuracy_score(predictions, y_test2) * 100 / none_accuracy * 100) - 100\n",
        "print(\"Increase Percent: \", increasePercent)"
      ]
    },
    {
      "cell_type": "code",
      "execution_count": null,
      "metadata": {
        "id": "vq4edA_RNeD8"
      },
      "outputs": [],
      "source": [
        "data = x_train2.drop('JBIG2Decode', axis=1)\n",
        "testdata = x_test2.drop('JBIG2Decode', axis=1)\n",
        "model.fit(data, y_train2)\n",
        "predictions = model.predict(testdata)\n",
        "print(\"Accuracy: \", metrics.accuracy_score(predictions, y_test2) * 100)\n",
        "print(\"Precision: \", metrics.average_precision_score(predictions, y_test2) * 100)\n",
        "print(\"F1 score: \", metrics.f1_score(predictions, y_test2) * 100)\n",
        "increasePercent = (metrics.accuracy_score(predictions, y_test2) * 100 / none_accuracy * 100) - 100\n",
        "print(\"Increase Percent: \", increasePercent)"
      ]
    },
    {
      "cell_type": "code",
      "execution_count": null,
      "metadata": {
        "id": "craEL9m_Nlzk"
      },
      "outputs": [],
      "source": [
        "data = x_train2.drop('RichMedia', axis=1)\n",
        "testdata = x_test2.drop('RichMedia', axis=1)\n",
        "model.fit(data, y_train2)\n",
        "predictions = model.predict(testdata)\n",
        "print(\"Accuracy: \", metrics.accuracy_score(predictions, y_test2) * 100)\n",
        "print(\"Precision: \", metrics.average_precision_score(predictions, y_test2) * 100)\n",
        "print(\"F1 score: \", metrics.f1_score(predictions, y_test2) * 100)\n",
        "increasePercent = (metrics.accuracy_score(predictions, y_test2) * 100 / none_accuracy * 100) - 100\n",
        "print(\"Increase Percent: \", increasePercent)"
      ]
    },
    {
      "cell_type": "code",
      "execution_count": null,
      "metadata": {
        "id": "KZyLp6Q6Npwy"
      },
      "outputs": [],
      "source": [
        "data = x_train2.drop('launch', axis=1)\n",
        "testdata = x_test2.drop('launch', axis=1)\n",
        "model.fit(data, y_train2)\n",
        "predictions = model.predict(testdata)\n",
        "print(\"Accuracy: \", metrics.accuracy_score(predictions, y_test2) * 100)\n",
        "print(\"Precision: \", metrics.average_precision_score(predictions, y_test2) * 100)\n",
        "print(\"F1 score: \", metrics.f1_score(predictions, y_test2) * 100)\n",
        "increasePercent = (metrics.accuracy_score(predictions, y_test2) * 100 / none_accuracy * 100) - 100\n",
        "print(\"Increase Percent: \", increasePercent)"
      ]
    },
    {
      "cell_type": "code",
      "execution_count": null,
      "metadata": {
        "id": "IPAqPk5eNqS9"
      },
      "outputs": [],
      "source": [
        "data = x_train2.drop('EmbeddedFile', axis=1)\n",
        "testdata = x_test2.drop('EmbeddedFile', axis=1)\n",
        "model.fit(data, y_train2)\n",
        "predictions = model.predict(testdata)\n",
        "print(\"Accuracy: \", metrics.accuracy_score(predictions, y_test2) * 100)\n",
        "print(\"Precision: \", metrics.average_precision_score(predictions, y_test2) * 100)\n",
        "print(\"F1 score: \", metrics.f1_score(predictions, y_test2) * 100)\n",
        "increasePercent = (metrics.accuracy_score(predictions, y_test2) * 100 / none_accuracy * 100) - 100\n",
        "print(\"Increase Percent: \", increasePercent)"
      ]
    },
    {
      "cell_type": "code",
      "execution_count": null,
      "metadata": {
        "id": "yFbF6SprNqoM"
      },
      "outputs": [],
      "source": [
        "data = x_train2.drop('XFA', axis=1)\n",
        "testdata = x_test2.drop('XFA', axis=1)\n",
        "model.fit(data, y_train2)\n",
        "predictions = model.predict(testdata)\n",
        "print(\"Accuracy: \", metrics.accuracy_score(predictions, y_test2) * 100)\n",
        "print(\"Precision: \", metrics.average_precision_score(predictions, y_test2) * 100)\n",
        "print(\"F1 score: \", metrics.f1_score(predictions, y_test2) * 100)\n",
        "increasePercent = (metrics.accuracy_score(predictions, y_test2) * 100 / none_accuracy * 100) - 100\n",
        "print(\"Increase Percent: \", increasePercent)"
      ]
    },
    {
      "cell_type": "code",
      "execution_count": null,
      "metadata": {
        "id": "EfNkvuw9N0YB"
      },
      "outputs": [],
      "source": [
        "data = x_train2.drop('Colors', axis=1)\n",
        "testdata = x_test2.drop('Colors', axis=1)\n",
        "model.fit(data, y_train2)\n",
        "predictions = model.predict(testdata)\n",
        "print(\"Accuracy: \", metrics.accuracy_score(predictions, y_test2) * 100)\n",
        "print(\"Precision: \", metrics.average_precision_score(predictions, y_test2) * 100)\n",
        "print(\"F1 score: \", metrics.f1_score(predictions, y_test2) * 100)\n",
        "increasePercent = (metrics.accuracy_score(predictions, y_test2) * 100 / none_accuracy * 100) - 100\n",
        "print(\"Increase Percent: \", increasePercent)"
      ]
    },
    {
      "cell_type": "code",
      "execution_count": null,
      "metadata": {
        "id": "V09bSjtsMMtf"
      },
      "outputs": [],
      "source": [
        "mylist = []"
      ]
    },
    {
      "cell_type": "code",
      "execution_count": null,
      "metadata": {
        "id": "KuJAZZYPM8jH"
      },
      "outputs": [],
      "source": [
        "from sklearn.utils import shuffle\n",
        "model.fit(x_train2, y_train2)\n",
        "predictions123 = model.predict(x_test2)\n",
        "print('The dropped column is none')\n",
        "print(\"Accuracy: \", metrics.accuracy_score(predictions123, y_test2) * 100)\n",
        "print(\"Precision: \", metrics.average_precision_score(predictions123, y_test2) * 100)\n",
        "print(\"F1 score: \", metrics.f1_score(predictions123, y_test2) * 100)\n",
        "print(\"\\n\")\n",
        "none_accuracy = metrics.accuracy_score(predictions123, y_test2) * 100\n",
        "\n",
        "for i in x_train2.keys():\n",
        "  li = [0, 0, 0, 0, \"\"]\n",
        "  data = x_train2.drop(i, axis=1)\n",
        "  testdata = x_test2.drop(i, axis=1)\n",
        "  shuffle(testdata)\n",
        "  shuffle(data)\n",
        "  model.fit(data, y_train2)\n",
        "  predictions = model.predict(testdata)\n",
        "  print('The dropped column is: ' + str(i))\n",
        "  print(\"Accuracy: \", metrics.accuracy_score(predictions, y_test2) * 100)\n",
        "  print(\"Precision: \", metrics.average_precision_score(predictions, y_test2) * 100)\n",
        "  print(\"F1 score: \", metrics.f1_score(predictions, y_test2) * 100)\n",
        "  increasePercent = (metrics.accuracy_score(predictions, y_test2) * 100 / none_accuracy * 100) - 100\n",
        "  print(\"Increase percent: \", increasePercent)\n",
        "  print(\"\\n\")\n",
        "  li[0] = metrics.accuracy_score(predictions, y_test2) * 100\n",
        "  li[1] = metrics.average_precision_score(predictions, y_test2) * 100\n",
        "  li[2] = metrics.f1_score(predictions, y_test2) * 100\n",
        "  li[3] = increasePercent\n",
        "  li[4] = i\n",
        "  mylist.append(li)\n"
      ]
    },
    {
      "cell_type": "code",
      "execution_count": null,
      "metadata": {
        "id": "y7h67MTT5Nvv"
      },
      "outputs": [],
      "source": [
        "mylist.sort()"
      ]
    },
    {
      "cell_type": "code",
      "execution_count": null,
      "metadata": {
        "id": "VegfrQbgL1BQ"
      },
      "outputs": [],
      "source": [
        "mylist"
      ]
    },
    {
      "cell_type": "code",
      "execution_count": null,
      "metadata": {
        "id": "DY3n0XUA5R-L"
      },
      "outputs": [],
      "source": [
        "for i in x_train2.keys():\n",
        "  print(i)"
      ]
    },
    {
      "cell_type": "code",
      "execution_count": null,
      "metadata": {
        "id": "7BbHYBpaNFuS"
      },
      "outputs": [],
      "source": [
        "df2.drop('AA', axis=1, inplace=True)\n",
        "df2.drop('stream', axis=1, inplace=True)\n",
        "df2.drop('XFA', axis=1, inplace=True)\n",
        "df2.drop('ObjStm', axis=1, inplace=True)"
      ]
    },
    {
      "cell_type": "markdown",
      "metadata": {
        "id": "zmpEEK-Djmr6"
      },
      "source": [
        "## This is expirments 2"
      ]
    },
    {
      "cell_type": "code",
      "execution_count": null,
      "metadata": {
        "colab": {
          "base_uri": "https://localhost:8080/"
        },
        "id": "SAZFqr0amles",
        "outputId": "76359648-6722-4bcb-dfc5-3fd009946907"
      },
      "outputs": [
        {
          "output_type": "stream",
          "name": "stdout",
          "text": [
            "Accuracy:  99.40019993335555\n",
            "Precision:  99.36201330278259\n",
            "F1 score:  99.4626865671642\n"
          ]
        }
      ],
      "source": [
        "model.fit(x_train2, y_train2)\n",
        "predictions = model.predict(x_test2)\n",
        "print(\"Accuracy: \", metrics.accuracy_score(predictions, y_test2) * 100)\n",
        "print(\"Precision: \", metrics.average_precision_score(predictions, y_test2) * 100)\n",
        "print(\"F1 score: \", metrics.f1_score(predictions, y_test2) * 100)\n",
        "base_acc = metrics.accuracy_score(predictions, y_test2) * 100\n",
        "base_prec = metrics.average_precision_score(predictions, y_test2) * 100\n",
        "base_f1 = metrics.f1_score(predictions, y_test2) * 100"
      ]
    },
    {
      "cell_type": "code",
      "execution_count": null,
      "metadata": {
        "colab": {
          "base_uri": "https://localhost:8080/"
        },
        "id": "ByVuZbOJ46d2",
        "outputId": "65b9ada7-0494-470c-81b9-d1ecd4fe87f3"
      },
      "outputs": [
        {
          "name": "stdout",
          "output_type": "stream",
          "text": [
            "Accuracy:  99.66744263385434\n",
            "Precision:  99.63179346085951\n",
            "F1 score:  99.69897652016857\n",
            "Accuracy deviation:  0.03337783711614861\n",
            "Precision deviation:  0.02658416525301277\n",
            "F1 score deviation:  0.030102347983145705\n"
          ]
        }
      ],
      "source": [
        "x_train3 = x_train2.drop('ObjStm', axis=1)\n",
        "x_train3.drop('stream', axis=1, inplace=True)\n",
        "x_train3.drop('Colors', axis=1, inplace=True)\n",
        "\n",
        "x_test3 = x_test2.drop('ObjStm', axis=1)\n",
        "x_test3.drop('stream', axis=1, inplace=True)\n",
        "x_test3.drop('Colors', axis=1, inplace=True)\n",
        "\n",
        "model.fit(x_train3, y_train2)\n",
        "predictions = model.predict(x_test3)\n",
        "print(\"Accuracy: \", metrics.accuracy_score(predictions, y_test2) * 100)\n",
        "print(\"Precision: \", metrics.average_precision_score(predictions, y_test2) * 100)\n",
        "print(\"F1 score: \", metrics.f1_score(predictions, y_test2) * 100)\n",
        "accDev = ((metrics.accuracy_score(predictions, y_test2) * 100) / base_acc * 100) - 100\n",
        "presDev = ((metrics.average_precision_score(predictions, y_test2) * 100) / base_prec * 100) - 100\n",
        "f1Dev = ((metrics.f1_score(predictions, y_test2) * 100) / base_f1 * 100) - 100\n",
        "print('Accuracy deviation: ', accDev)\n",
        "print('Precision deviation: ', presDev)\n",
        "print('F1 score deviation: ', f1Dev)"
      ]
    },
    {
      "cell_type": "code",
      "execution_count": null,
      "metadata": {
        "colab": {
          "base_uri": "https://localhost:8080/"
        },
        "id": "J-pItU_u9oN0",
        "outputId": "6559a691-c70d-4390-e59c-bcada6a2a23f"
      },
      "outputs": [
        {
          "name": "stdout",
          "output_type": "stream",
          "text": [
            "Accuracy:  99.66744263385434\n",
            "Precision:  99.66559010258733\n",
            "F1 score:  99.69915764139591\n",
            "Accuracy deviation:  0.03337783711614861\n",
            "Precision deviation:  0.0605147260796457\n",
            "F1 score deviation:  0.030284070760473014\n"
          ]
        }
      ],
      "source": [
        "x_train3 = x_train2.drop('ObjStm', axis=1)\n",
        "x_train3.drop('stream', axis=1, inplace=True)\n",
        "x_train3.drop('Colors', axis=1, inplace=True)\n",
        "x_train3.drop('AA', axis=1, inplace=True)\n",
        "x_train3.drop('OpenAction', axis=1, inplace=True)\n",
        "\n",
        "x_test3 = x_test2.drop('ObjStm', axis=1)\n",
        "x_test3.drop('stream', axis=1, inplace=True)\n",
        "x_test3.drop('Colors', axis=1, inplace=True)\n",
        "x_test3.drop('AA', axis=1, inplace=True)\n",
        "x_test3.drop('OpenAction', axis=1, inplace=True)\n",
        "\n",
        "model.fit(x_train3, y_train2)\n",
        "predictions = model.predict(x_test3)\n",
        "print(\"Accuracy: \", metrics.accuracy_score(predictions, y_test2) * 100)\n",
        "print(\"Precision: \", metrics.average_precision_score(predictions, y_test2) * 100)\n",
        "print(\"F1 score: \", metrics.f1_score(predictions, y_test2) * 100)\n",
        "accDev = ((metrics.accuracy_score(predictions, y_test2) * 100) / base_acc * 100) - 100\n",
        "presDev = ((metrics.average_precision_score(predictions, y_test2) * 100) / base_prec * 100) - 100\n",
        "f1Dev = ((metrics.f1_score(predictions, y_test2) * 100) / base_f1 * 100) - 100\n",
        "print('Accuracy deviation: ', accDev)\n",
        "print('Precision deviation: ', presDev)\n",
        "print('F1 score deviation: ', f1Dev)"
      ]
    },
    {
      "cell_type": "code",
      "execution_count": null,
      "metadata": {
        "colab": {
          "base_uri": "https://localhost:8080/"
        },
        "id": "YwQAiU_O9oq_",
        "outputId": "3208b69a-0db6-4421-a5d4-2aaeff06a421"
      },
      "outputs": [
        {
          "name": "stdout",
          "output_type": "stream",
          "text": [
            "Accuracy:  99.56767542401064\n",
            "Precision:  99.48476245843199\n",
            "F1 score:  99.60855164107197\n",
            "Accuracy deviation:  -0.06675567423229722\n",
            "Precision deviation:  -0.12102944711257635\n",
            "F1 score deviation:  -0.06062285528921052\n"
          ]
        }
      ],
      "source": [
        "x_train3 = x_train2.drop('ObjStm', axis=1)\n",
        "x_train3.drop('stream', axis=1, inplace=True)\n",
        "x_train3.drop('Colors', axis=1, inplace=True)\n",
        "x_train3.drop('AA', axis=1, inplace=True)\n",
        "x_train3.drop('OpenAction', axis=1, inplace=True)\n",
        "x_train3.drop('pages', axis=1, inplace=True)\n",
        "x_train3.drop('isEncrypted', axis=1, inplace=True)\n",
        "\n",
        "x_test3 = x_test2.drop('ObjStm', axis=1)\n",
        "x_test3.drop('stream', axis=1, inplace=True)\n",
        "x_test3.drop('Colors', axis=1, inplace=True)\n",
        "x_test3.drop('AA', axis=1, inplace=True)\n",
        "x_test3.drop('OpenAction', axis=1, inplace=True)\n",
        "x_test3.drop('pages', axis=1, inplace=True)\n",
        "x_test3.drop('isEncrypted', axis=1, inplace=True)\n",
        "\n",
        "model.fit(x_train3, y_train2)\n",
        "predictions = model.predict(x_test3)\n",
        "print(\"Accuracy: \", metrics.accuracy_score(predictions, y_test2) * 100)\n",
        "print(\"Precision: \", metrics.average_precision_score(predictions, y_test2) * 100)\n",
        "print(\"F1 score: \", metrics.f1_score(predictions, y_test2) * 100)\n",
        "accDev = ((metrics.accuracy_score(predictions, y_test2) * 100) / base_acc * 100) - 100\n",
        "presDev = ((metrics.average_precision_score(predictions, y_test2) * 100) / base_prec * 100) - 100\n",
        "f1Dev = ((metrics.f1_score(predictions, y_test2) * 100) / base_f1 * 100) - 100\n",
        "print('Accuracy deviation: ', accDev)\n",
        "print('Precision deviation: ', presDev)\n",
        "print('F1 score deviation: ', f1Dev)"
      ]
    },
    {
      "cell_type": "code",
      "execution_count": null,
      "metadata": {
        "colab": {
          "base_uri": "https://localhost:8080/"
        },
        "id": "YhTS-CAcnlJC",
        "outputId": "84ac3adb-a113-4cd4-aa00-4df549a4f943"
      },
      "outputs": [
        {
          "output_type": "stream",
          "name": "stdout",
          "text": [
            "Accuracy:  98.96701099633457\n",
            "Precision:  98.82551664524999\n",
            "F1 score:  99.07490301402567\n",
            "Accuracy deviation:  -0.4358028830036744\n",
            "Precision deviation:  -0.5399414119133752\n",
            "F1 score deviation:  -0.3898784222731422\n"
          ]
        }
      ],
      "source": [
        "x_train3 = x_train2.drop('ObjStm', axis=1)\n",
        "x_train3.drop('stream', axis=1, inplace=True)\n",
        "x_train3.drop('Colors', axis=1, inplace=True)\n",
        "x_train3.drop('AA', axis=1, inplace=True)\n",
        "x_train3.drop('OpenAction', axis=1, inplace=True)\n",
        "x_train3.drop('pages', axis=1, inplace=True)\n",
        "x_train3.drop('isEncrypted', axis=1, inplace=True)\n",
        "x_train3.drop('XFA', axis=1, inplace=True)\n",
        "x_train3.drop('pdfsize', axis=1, inplace=True)\n",
        "x_train3.drop('title characters', axis=1, inplace=True)\n",
        "\n",
        "x_test3 = x_test2.drop('ObjStm', axis=1)\n",
        "x_test3.drop('stream', axis=1, inplace=True)\n",
        "x_test3.drop('Colors', axis=1, inplace=True)\n",
        "x_test3.drop('AA', axis=1, inplace=True)\n",
        "x_test3.drop('OpenAction', axis=1, inplace=True)\n",
        "x_test3.drop('pages', axis=1, inplace=True)\n",
        "x_test3.drop('isEncrypted', axis=1, inplace=True)\n",
        "x_test3.drop('XFA', axis=1, inplace=True)\n",
        "x_test3.drop('pdfsize', axis=1, inplace=True)\n",
        "x_test3.drop('title characters', axis=1, inplace=True)\n",
        "\n",
        "model.fit(x_train3, y_train2)\n",
        "predictions = model.predict(x_test3)\n",
        "print(\"Accuracy: \", metrics.accuracy_score(predictions, y_test2) * 100)\n",
        "print(\"Precision: \", metrics.average_precision_score(predictions, y_test2) * 100)\n",
        "print(\"F1 score: \", metrics.f1_score(predictions, y_test2) * 100)\n",
        "accDev = ((metrics.accuracy_score(predictions, y_test2) * 100) / base_acc * 100) - 100\n",
        "presDev = ((metrics.average_precision_score(predictions, y_test2) * 100) / base_prec * 100) - 100\n",
        "f1Dev = ((metrics.f1_score(predictions, y_test2) * 100) / base_f1 * 100) - 100\n",
        "print('Accuracy deviation: ', accDev)\n",
        "print('Precision deviation: ', presDev)\n",
        "print('F1 score deviation: ', f1Dev)"
      ]
    },
    {
      "cell_type": "code",
      "execution_count": null,
      "metadata": {
        "colab": {
          "base_uri": "https://localhost:8080/"
        },
        "id": "5ya5WkmTAUxS",
        "outputId": "05294806-70c3-4ea7-f30f-5002fe124581"
      },
      "outputs": [
        {
          "output_type": "stream",
          "name": "stdout",
          "text": [
            "<class 'pandas.core.frame.DataFrame'>\n",
            "Index: 3001 entries, 8168 to 8579\n",
            "Data columns (total 14 columns):\n",
            " #   Column          Non-Null Count  Dtype  \n",
            "---  ------          --------------  -----  \n",
            " 0   metadata size   3001 non-null   float64\n",
            " 1   xref Length     3001 non-null   float64\n",
            " 2   embedded files  3001 non-null   float64\n",
            " 3   images          3001 non-null   int32  \n",
            " 4   text            3001 non-null   int64  \n",
            " 5   endobj          3001 non-null   int32  \n",
            " 6   xref            3001 non-null   int32  \n",
            " 7   trailer         3001 non-null   float64\n",
            " 8   JS              3001 non-null   int32  \n",
            " 9   Acroform        3001 non-null   int32  \n",
            " 10  JBIG2Decode     3001 non-null   int32  \n",
            " 11  RichMedia       3001 non-null   int32  \n",
            " 12  launch          3001 non-null   int32  \n",
            " 13  EmbeddedFile    3001 non-null   int32  \n",
            "dtypes: float64(4), int32(9), int64(1)\n",
            "memory usage: 246.2 KB\n"
          ]
        }
      ],
      "source": [
        "x_test3.info()"
      ]
    },
    {
      "cell_type": "code",
      "execution_count": null,
      "metadata": {
        "colab": {
          "base_uri": "https://localhost:8080/"
        },
        "id": "r0VoTfbhGNs7",
        "outputId": "21e82bf3-ff1a-4353-a491-d4d557c7bb75"
      },
      "outputs": [
        {
          "data": {
            "text/plain": [
              "['model.pkl']"
            ]
          },
          "execution_count": 22,
          "metadata": {},
          "output_type": "execute_result"
        }
      ],
      "source": [
        "import joblib\n",
        "\n",
        "# save\n",
        "joblib.dump(model, \"model.pkl\")"
      ]
    },
    {
      "cell_type": "code",
      "execution_count": null,
      "metadata": {
        "id": "27whGrMlJD9U"
      },
      "outputs": [],
      "source": [
        "x_train3 = x_train2.drop('images', axis=1)\n",
        "x_train3.drop('pages', axis=1, inplace=True)\n",
        "x_train3.drop('embedded files', axis=1, inplace=True)\n",
        "x_train3.drop('XFA', axis=1, inplace=True)\n",
        "x_train3.drop('RichMedia', axis=1, inplace=True)\n",
        "x_train3.drop('AA', axis=1, inplace=True)\n",
        "x_train3.drop('pdfsize', axis=1, inplace=True)\n",
        "x_train3.drop('title characters', axis=1, inplace=True)\n",
        "x_train3.drop('encrypt', axis=1, inplace=True)\n",
        "x_train3.drop('ObjStm', axis=1, inplace=True)\n",
        "\n",
        "x_test3 = x_test2.drop('images', axis=1)\n",
        "x_test3.drop('pages', axis=1, inplace=True)\n",
        "x_test3.drop('embedded files', axis=1, inplace=True)\n",
        "x_test3.drop('XFA', axis=1, inplace=True)\n",
        "x_test3.drop('RichMedia', axis=1, inplace=True)\n",
        "x_test3.drop('AA', axis=1, inplace=True)\n",
        "x_test3.drop('pdfsize', axis=1, inplace=True)\n",
        "x_test3.drop('title characters', axis=1, inplace=True)\n",
        "x_test3.drop('encrypt', axis=1, inplace=True)\n",
        "x_test3.drop('ObjStm', axis=1, inplace=True)\n",
        "\n",
        "predictions = model2.predict(x_test3)\n",
        "print(\"Accuracy: \", metrics.accuracy_score(predictions, y_test2) * 100)\n",
        "print(\"Precision: \", metrics.average_precision_score(predictions, y_test2) * 100)\n",
        "print(\"F1 score: \", metrics.f1_score(predictions, y_test2) * 100)\n",
        "accDev = ((metrics.accuracy_score(predictions, y_test2) * 100) / base_acc * 100) - 100\n",
        "presDev = ((metrics.average_precision_score(predictions, y_test2) * 100) / base_prec * 100) - 100\n",
        "f1Dev = ((metrics.f1_score(predictions, y_test2) * 100) / base_f1 * 100) - 100\n",
        "print('Accuracy deviation: ', accDev)\n",
        "print('Precision deviation: ', presDev)\n",
        "print('F1 score deviation: ', f1Dev)"
      ]
    },
    {
      "cell_type": "code",
      "execution_count": null,
      "metadata": {
        "colab": {
          "base_uri": "https://localhost:8080/",
          "height": 430
        },
        "id": "uuQGigU5wMd8",
        "outputId": "1016824f-9bcf-45af-cba8-6a36037c6f70"
      },
      "outputs": [
        {
          "data": {
            "image/png": "[encoded data removed]",
            "text/plain": [
              "<Figure size 640x480 with 1 Axes>"
            ]
          },
          "metadata": {},
          "output_type": "display_data"
        }
      ],
      "source": [
        "xcols = [3, 5, 7, 10]\n",
        "ycols1 = [0.0334, 0.0334, -0.0668, -0.0341]\n",
        "ycols2 = [0.0265, 0.0605, -0.1210, -0.0870]\n",
        "ycols3 = [0.0301,0.0303, -0.0606,  -0.0604]\n",
        "#plt.yticks(np.arange(-0.8, 0.0339, 0.005))\n",
        "plt.plot(xcols, ycols1, label = \"acp\")\n",
        "plt.plot(xcols, ycols2, label = \"pcp\")\n",
        "plt.plot(xcols, ycols3, label = \"f1 scp\")\n",
        "plt.legend()\n",
        "plt.show()"
      ]
    },
    {
      "cell_type": "code",
      "execution_count": null,
      "metadata": {
        "id": "F618rF_E6Hjj"
      },
      "outputs": [],
      "source": [
        "modelver2.fit(x_train3, y_train2)"
      ]
    },
    {
      "cell_type": "code",
      "execution_count": null,
      "metadata": {
        "id": "N-FQQoVzoWxH"
      },
      "outputs": [],
      "source": [
        "predictions = model.predict(x_test2)\n",
        "print(\"Accuracy: \", metrics.accuracy_score(predictions, y_test2) * 100)\n",
        "print(\"Precision: \", metrics.average_precision_score(predictions, y_test2) * 100)\n",
        "print(\"F1 score: \", metrics.f1_score(predictions, y_test2) * 100)"
      ]
    },
    {
      "cell_type": "code",
      "execution_count": null,
      "metadata": {
        "id": "e30ljGIk6Wr0"
      },
      "outputs": [],
      "source": [
        "predictions = modelver2.predict(x_test3)\n",
        "print(\"Accuracy: \", metrics.accuracy_score(predictions, y_test2) * 100)\n",
        "print(\"Precision: \", metrics.average_precision_score(predictions, y_test2) * 100)\n",
        "print(\"F1 score: \", metrics.f1_score(predictions, y_test2) * 100)"
      ]
    },
    {
      "cell_type": "markdown",
      "metadata": {
        "id": "o9nPeRFgQh6w"
      },
      "source": [
        "Accuracy:  0.9933488526770868\n",
        "\n",
        "Precision:  0.9918930412049707\n",
        "\n",
        "F1 score:  0.9939320388349514\n",
        "\n",
        "Accuracy:  0.9913535084802129\n",
        "Precision:  0.990384286241445\n",
        "F1 score:  0.9921639541892706\n",
        "\n",
        "\n"
      ]
    },
    {
      "cell_type": "markdown",
      "metadata": {
        "id": "W7vToX_qbeY8"
      },
      "source": [
        "## This is expirments 3"
      ]
    },
    {
      "cell_type": "code",
      "execution_count": null,
      "metadata": {
        "id": "dVWqwSwsBYvQ"
      },
      "outputs": [],
      "source": [
        "from sklearn.neighbors import KNeighborsClassifier\n",
        "estimators2 = [\n",
        "    ('lg', make_pipeline(StandardScaler(), LogisticRegression(max_iter = 200))),\n",
        "    #('mlp', make_pipeline(StandardScaler(), MLPClassifier(max_iter = 300))),\n",
        "    ('RF', make_pipeline(StandardScaler(), RandomForestClassifier(n_estimators=100))),\n",
        "    ('adc', make_pipeline(StandardScaler(), AdaBoostClassifier(n_estimators=100)))\n",
        "]\n",
        "modelVoting = VotingClassifier(estimators=estimators2, voting='hard')"
      ]
    },
    {
      "cell_type": "code",
      "execution_count": null,
      "metadata": {
        "colab": {
          "base_uri": "https://localhost:8080/"
        },
        "id": "RXhDQRc9CPkf",
        "outputId": "703b18e6-fc5a-4834-e6b3-71708390237e"
      },
      "outputs": [
        {
          "name": "stdout",
          "output_type": "stream",
          "text": [
            "Accuracy:  99.46790821416694\n",
            "Precision:  99.29441316038022\n",
            "F1 score:  99.5296884185773\n"
          ]
        }
      ],
      "source": [
        "modelVoting.fit(x_train2, y_train2)\n",
        "predictions = modelVoting.predict(x_test2)\n",
        "print(\"Accuracy: \", metrics.accuracy_score(predictions, y_test2) * 100)\n",
        "print(\"Precision: \", metrics.average_precision_score(predictions, y_test2) * 100)\n",
        "print(\"F1 score: \", metrics.f1_score(predictions, y_test2) * 100)\n",
        "base_acc = metrics.accuracy_score(predictions, y_test2) * 100\n",
        "base_prec = metrics.average_precision_score(predictions, y_test2) * 100\n",
        "base_f1 = metrics.f1_score(predictions, y_test2) * 100"
      ]
    },
    {
      "cell_type": "code",
      "execution_count": null,
      "metadata": {
        "colab": {
          "base_uri": "https://localhost:8080/"
        },
        "id": "6ck2gABiago3",
        "outputId": "76544bfb-72ff-4901-d0e7-4c5664de4374"
      },
      "outputs": [
        {
          "name": "stdout",
          "output_type": "stream",
          "text": [
            "Accuracy:  99.00232790156302\n",
            "Precision:  98.50564135072752\n",
            "F1 score:  99.1150442477876\n",
            "Accuracy deviation:  -0.4680708793045767\n",
            "Precision deviation:  -0.7943768280081116\n",
            "F1 score deviation:  -0.4166035053238488\n"
          ]
        }
      ],
      "source": [
        "x_train3 = x_train2.drop('ObjStm', axis=1)\n",
        "x_train3.drop('stream', axis=1, inplace=True)\n",
        "x_train3.drop('Colors', axis=1, inplace=True)\n",
        "\n",
        "x_test3 = x_test2.drop('ObjStm', axis=1)\n",
        "x_test3.drop('stream', axis=1, inplace=True)\n",
        "x_test3.drop('Colors', axis=1, inplace=True)\n",
        "\n",
        "modelVoting.fit(x_train3, y_train2)\n",
        "predictions = modelVoting.predict(x_test3)\n",
        "print(\"Accuracy: \", metrics.accuracy_score(predictions, y_test2) * 100)\n",
        "print(\"Precision: \", metrics.average_precision_score(predictions, y_test2) * 100)\n",
        "print(\"F1 score: \", metrics.f1_score(predictions, y_test2) * 100)\n",
        "accDev = ((metrics.accuracy_score(predictions, y_test2) * 100) / base_acc * 100) - 100\n",
        "presDev = ((metrics.average_precision_score(predictions, y_test2) * 100) / base_prec * 100) - 100\n",
        "f1Dev = ((metrics.f1_score(predictions, y_test2) * 100) / base_f1 * 100) - 100\n",
        "print('Accuracy deviation: ', accDev)\n",
        "print('Precision deviation: ', presDev)\n",
        "print('F1 score deviation: ', f1Dev)"
      ]
    },
    {
      "cell_type": "code",
      "execution_count": null,
      "metadata": {
        "colab": {
          "base_uri": "https://localhost:8080/"
        },
        "id": "2OzPI110ai3M",
        "outputId": "23bd086d-1c81-4af8-cde3-27030b8ee695"
      },
      "outputs": [
        {
          "name": "stdout",
          "output_type": "stream",
          "text": [
            "Accuracy:  98.7362820086465\n",
            "Precision:  98.06946361284513\n",
            "F1 score:  98.87706855791963\n",
            "Accuracy deviation:  -0.7355399531928981\n",
            "Precision deviation:  -1.2336540481452403\n",
            "F1 score deviation:  -0.6557037111510198\n"
          ]
        }
      ],
      "source": [
        "x_train3 = x_train2.drop('ObjStm', axis=1)\n",
        "x_train3.drop('stream', axis=1, inplace=True)\n",
        "x_train3.drop('Colors', axis=1, inplace=True)\n",
        "x_train3.drop('AA', axis=1, inplace=True)\n",
        "x_train3.drop('OpenAction', axis=1, inplace=True)\n",
        "\n",
        "x_test3 = x_test2.drop('ObjStm', axis=1)\n",
        "x_test3.drop('stream', axis=1, inplace=True)\n",
        "x_test3.drop('Colors', axis=1, inplace=True)\n",
        "x_test3.drop('AA', axis=1, inplace=True)\n",
        "x_test3.drop('OpenAction', axis=1, inplace=True)\n",
        "\n",
        "modelVoting.fit(x_train3, y_train2)\n",
        "predictions = modelVoting.predict(x_test3)\n",
        "print(\"Accuracy: \", metrics.accuracy_score(predictions, y_test2) * 100)\n",
        "print(\"Precision: \", metrics.average_precision_score(predictions, y_test2) * 100)\n",
        "print(\"F1 score: \", metrics.f1_score(predictions, y_test2) * 100)\n",
        "accDev = ((metrics.accuracy_score(predictions, y_test2) * 100) / base_acc * 100) - 100\n",
        "presDev = ((metrics.average_precision_score(predictions, y_test2) * 100) / base_prec * 100) - 100\n",
        "f1Dev = ((metrics.f1_score(predictions, y_test2) * 100) / base_f1 * 100) - 100\n",
        "print('Accuracy deviation: ', accDev)\n",
        "print('Precision deviation: ', presDev)\n",
        "print('F1 score deviation: ', f1Dev)"
      ]
    },
    {
      "cell_type": "code",
      "execution_count": null,
      "metadata": {
        "colab": {
          "base_uri": "https://localhost:8080/"
        },
        "id": "_hnuy8-RajYq",
        "outputId": "169c9040-9e80-4fdf-99e1-30fb489ba278"
      },
      "outputs": [
        {
          "name": "stdout",
          "output_type": "stream",
          "text": [
            "Accuracy:  98.76953774526106\n",
            "Precision:  98.16213123106981\n",
            "F1 score:  98.90758783584293\n",
            "Accuracy deviation:  -0.702106318956865\n",
            "Precision deviation:  -1.1403279331351257\n",
            "F1 score deviation:  -0.6250402192741547\n"
          ]
        }
      ],
      "source": [
        "x_train3 = x_train2.drop('ObjStm', axis=1)\n",
        "x_train3.drop('stream', axis=1, inplace=True)\n",
        "x_train3.drop('Colors', axis=1, inplace=True)\n",
        "x_train3.drop('AA', axis=1, inplace=True)\n",
        "x_train3.drop('OpenAction', axis=1, inplace=True)\n",
        "x_train3.drop('pages', axis=1, inplace=True)\n",
        "x_train3.drop('isEncrypted', axis=1, inplace=True)\n",
        "\n",
        "x_test3 = x_test2.drop('ObjStm', axis=1)\n",
        "x_test3.drop('stream', axis=1, inplace=True)\n",
        "x_test3.drop('Colors', axis=1, inplace=True)\n",
        "x_test3.drop('AA', axis=1, inplace=True)\n",
        "x_test3.drop('OpenAction', axis=1, inplace=True)\n",
        "x_test3.drop('pages', axis=1, inplace=True)\n",
        "x_test3.drop('isEncrypted', axis=1, inplace=True)\n",
        "\n",
        "modelVoting.fit(x_train3, y_train2)\n",
        "predictions = modelVoting.predict(x_test3)\n",
        "print(\"Accuracy: \", metrics.accuracy_score(predictions, y_test2) * 100)\n",
        "print(\"Precision: \", metrics.average_precision_score(predictions, y_test2) * 100)\n",
        "print(\"F1 score: \", metrics.f1_score(predictions, y_test2) * 100)\n",
        "accDev = ((metrics.accuracy_score(predictions, y_test2) * 100) / base_acc * 100) - 100\n",
        "presDev = ((metrics.average_precision_score(predictions, y_test2) * 100) / base_prec * 100) - 100\n",
        "f1Dev = ((metrics.f1_score(predictions, y_test2) * 100) / base_f1 * 100) - 100\n",
        "print('Accuracy deviation: ', accDev)\n",
        "print('Precision deviation: ', presDev)\n",
        "print('F1 score deviation: ', f1Dev)"
      ]
    },
    {
      "cell_type": "code",
      "execution_count": null,
      "metadata": {
        "colab": {
          "base_uri": "https://localhost:8080/"
        },
        "id": "mebLqcigbAFJ",
        "outputId": "444cd3e6-2bd4-4e32-82f1-da2183b9fa63"
      },
      "outputs": [
        {
          "name": "stdout",
          "output_type": "stream",
          "text": [
            "Accuracy:  98.53674758895909\n",
            "Precision:  97.85302706097977\n",
            "F1 score:  98.70053160070881\n",
            "Accuracy deviation:  -0.9361417586091676\n",
            "Precision deviation:  -1.451628599760511\n",
            "F1 score deviation:  -0.833074865442569\n"
          ]
        }
      ],
      "source": [
        "x_train3 = x_train2.drop('ObjStm', axis=1)\n",
        "x_train3.drop('stream', axis=1, inplace=True)\n",
        "x_train3.drop('Colors', axis=1, inplace=True)\n",
        "x_train3.drop('AA', axis=1, inplace=True)\n",
        "x_train3.drop('OpenAction', axis=1, inplace=True)\n",
        "x_train3.drop('pages', axis=1, inplace=True)\n",
        "x_train3.drop('isEncrypted', axis=1, inplace=True)\n",
        "x_train3.drop('XFA', axis=1, inplace=True)\n",
        "x_train3.drop('pdfsize', axis=1, inplace=True)\n",
        "x_train3.drop('title characters', axis=1, inplace=True)\n",
        "\n",
        "x_test3 = x_test2.drop('ObjStm', axis=1)\n",
        "x_test3.drop('stream', axis=1, inplace=True)\n",
        "x_test3.drop('Colors', axis=1, inplace=True)\n",
        "x_test3.drop('AA', axis=1, inplace=True)\n",
        "x_test3.drop('OpenAction', axis=1, inplace=True)\n",
        "x_test3.drop('pages', axis=1, inplace=True)\n",
        "x_test3.drop('isEncrypted', axis=1, inplace=True)\n",
        "x_test3.drop('XFA', axis=1, inplace=True)\n",
        "x_test3.drop('pdfsize', axis=1, inplace=True)\n",
        "x_test3.drop('title characters', axis=1, inplace=True)\n",
        "\n",
        "modelVoting.fit(x_train3, y_train2)\n",
        "predictions = modelVoting.predict(x_test3)\n",
        "print(\"Accuracy: \", metrics.accuracy_score(predictions, y_test2) * 100)\n",
        "print(\"Precision: \", metrics.average_precision_score(predictions, y_test2) * 100)\n",
        "print(\"F1 score: \", metrics.f1_score(predictions, y_test2) * 100)\n",
        "accDev = ((metrics.accuracy_score(predictions, y_test2) * 100) / base_acc * 100) - 100\n",
        "presDev = ((metrics.average_precision_score(predictions, y_test2) * 100) / base_prec * 100) - 100\n",
        "f1Dev = ((metrics.f1_score(predictions, y_test2) * 100) / base_f1 * 100) - 100\n",
        "print('Accuracy deviation: ', accDev)\n",
        "print('Precision deviation: ', presDev)\n",
        "print('F1 score deviation: ', f1Dev)"
      ]
    },
    {
      "cell_type": "code",
      "execution_count": null,
      "metadata": {
        "colab": {
          "base_uri": "https://localhost:8080/",
          "height": 546
        },
        "id": "oS9l5aIwkZav",
        "outputId": "795e974d-21ad-47a2-e4b8-5ce78eba7eff"
      },
      "outputs": [
        {
          "data": {
            "image/png": "[encoded data removed]",
            "text/plain": [
              "<Figure size 1600x1100 with 1 Axes>"
            ]
          },
          "metadata": {},
          "output_type": "display_data"
        }
      ],
      "source": [
        "xcols = [3, 5, 7, 10]\n",
        "ycols1 = [-0.468,-0.735, -0.702, -0.936]\n",
        "ycols2 = [-0.794, -1.233, -1.14, -1.452]\n",
        "ycols3 = [-0.416, -0.655, -0.625, -0.833]\n",
        "#plt.yticks(np.arange(-0.8, 0.0339, 0.005))\n",
        "plt.plot(xcols, ycols1, label = \"acp\")\n",
        "plt.plot(xcols, ycols2, label = \"pcp\")\n",
        "plt.plot(xcols, ycols3, label = \"f1 scp\")\n",
        "plt.legend()\n",
        "plt.show()"
      ]
    },
    {
      "cell_type": "markdown",
      "metadata": {
        "id": "k_uP0O69kfm1"
      },
      "source": [
        "## This is expirments 4"
      ]
    },
    {
      "cell_type": "code",
      "execution_count": null,
      "metadata": {
        "id": "HuOmSlyZCuhW"
      },
      "outputs": [],
      "source": [
        "!pip install --upgrade pymupdf"
      ]
    },
    {
      "cell_type": "code",
      "execution_count": null,
      "metadata": {
        "id": "kBqQ6caTMQv2"
      },
      "outputs": [],
      "source": [
        "import fitz"
      ]
    },
    {
      "cell_type": "code",
      "execution_count": null,
      "metadata": {
        "id": "ESz3MybEMkoj"
      },
      "outputs": [],
      "source": [
        "doc = fitz.open('Issakhani2022PDF.pdf')\n",
        "print(doc.page_count)\n",
        "print(doc.metadata['format'])\n",
        "print(doc.metadata['encryption'])\n",
        "print(len(doc.metadata['title']))\n",
        "count = 0\n",
        "for page in doc:\n",
        "  for img in page.get_images():\n",
        "    count += 1\n",
        "print(count)"
      ]
    },
    {
      "cell_type": "markdown",
      "metadata": {
        "id": "VRslE_ubbMOp"
      },
      "source": [
        "## This is expirment 5"
      ]
    },
    {
      "cell_type": "code",
      "execution_count": null,
      "metadata": {
        "id": "WOD1gZ4sPpmd"
      },
      "outputs": [],
      "source": [
        "modeln = keras.models.Sequential([\n",
        "    layers.Dense(16, activation='relu', input_dim=24),\n",
        "    layers.Dense(64, activation='relu'),\n",
        "    #layers.Dense(8, activation='relu'),\n",
        "    layers.Dense(1, activation='sigmoid')\n",
        "])\n",
        "modeln.compile(optimizer='adam', loss='binary_crossentropy', metrics=['accuracy', tf.keras.metrics.Precision(), tf.keras.metrics.Recall()])\n",
        "es = EarlyStopping(monitor='val_accuracy',\n",
        "                                   mode='max', # don't minimize the accuracy!\n",
        "                                   patience=10,\n",
        "                                   restore_best_weights=True)\n",
        "hist = modeln.fit(x_train2, y_train2, epochs=20, batch_size=50, validation_split=0.3, callbacks=[es])\n",
        "modelnresults = modeln.evaluate(x_test2, y_test2)\n",
        "base_acc = modelnresults[1] * 100\n",
        "base_prec = modelnresults[2] * 100\n",
        "base_f1 = 2 * (modelnresults[1] * modelnresults[2]) / (modelnresults[1] + modelnresults[2]) * 100\n",
        "\n",
        "print(\"Accuracy: \", base_acc)\n",
        "print(\"Precision: \", base_prec)\n",
        "print(\"F1 score: \", base_f1)\n",
        "plt.plot(hist.history['accuracy'])\n",
        "plt.plot(hist.history['val_accuracy'])\n",
        "plt.title('model accuracy')\n",
        "plt.ylabel('accuracy')\n",
        "plt.xlabel('epoch')\n",
        "plt.legend(['train', 'val'], loc='upper left')\n",
        "plt.show()\n",
        "plt.plot(hist.history['loss'])\n",
        "plt.plot(hist.history['val_loss'])\n",
        "plt.title('model loss')\n",
        "plt.ylabel('loss')\n",
        "plt.xlabel('epoch')\n",
        "plt.legend(['train', 'val'], loc='upper left')\n",
        "plt.show()"
      ]
    },
    {
      "cell_type": "code",
      "execution_count": null,
      "metadata": {
        "id": "bu6U94meEBIG"
      },
      "outputs": [],
      "source": [
        "x_train3 = x_train2.drop('images', axis=1)\n",
        "x_train3.drop('pages', axis=1, inplace=True)\n",
        "x_train3.drop('embedded files', axis=1, inplace=True)\n",
        "\n",
        "x_test3 = x_test2.drop('images', axis=1)\n",
        "x_test3.drop('pages', axis=1, inplace=True)\n",
        "x_test3.drop('embedded files', axis=1, inplace=True)\n",
        "\n",
        "modeln = keras.models.Sequential([\n",
        "    layers.Dense(16, activation='relu', input_dim=21),\n",
        "    layers.Dense(64, activation='relu'),\n",
        "    #layers.Dense(8, activation='relu'),\n",
        "    layers.Dense(1, activation='sigmoid')\n",
        "])\n",
        "modeln.compile(optimizer='adam', loss='binary_crossentropy', metrics=['accuracy', tf.keras.metrics.Precision(), tf.keras.metrics.Recall()])\n",
        "es = EarlyStopping(monitor='val_accuracy',\n",
        "                                   mode='max', # don't minimize the accuracy!\n",
        "                                   patience=10,\n",
        "                                   restore_best_weights=True)\n",
        "hist = modeln.fit(x_train3, y_train2, epochs=20, batch_size=50, validation_split=0.3, callbacks=[es])\n",
        "modelnresults = modeln.evaluate(x_test3, y_test2)\n",
        "acc = modelnresults[1] * 100\n",
        "prec = modelnresults[2] * 100\n",
        "f1 = 2 * (modelnresults[1] * modelnresults[2]) / (modelnresults[1] + modelnresults[2]) * 100\n",
        "\n",
        "print(\"Accuracy: \", acc)\n",
        "print(\"Precision: \", prec)\n",
        "print(\"F1 score: \", f1)\n",
        "accDev = (acc / base_acc * 100) - 100\n",
        "presDev = (prec / base_prec * 100) - 100\n",
        "f1Dev = (f1 / base_f1 * 100) - 100\n",
        "print('Accuracy deviation: ', accDev)\n",
        "print('Precision deviation: ', presDev)\n",
        "print('F1 score deviation: ', f1Dev)\n",
        "plt.plot(hist.history['accuracy'])\n",
        "plt.plot(hist.history['val_accuracy'])\n",
        "plt.title('model accuracy')\n",
        "plt.ylabel('accuracy')\n",
        "plt.xlabel('epoch')\n",
        "plt.legend(['train', 'val'], loc='upper left')\n",
        "plt.show()\n",
        "plt.plot(hist.history['loss'])\n",
        "plt.plot(hist.history['val_loss'])\n",
        "plt.title('model loss')\n",
        "plt.ylabel('loss')\n",
        "plt.xlabel('epoch')\n",
        "plt.legend(['train', 'val'], loc='upper left')\n",
        "plt.show()"
      ]
    },
    {
      "cell_type": "code",
      "execution_count": null,
      "metadata": {
        "id": "p6QAl27wEBai"
      },
      "outputs": [],
      "source": [
        "x_train3 = x_train2.drop('images', axis=1)\n",
        "x_train3.drop('pages', axis=1, inplace=True)\n",
        "x_train3.drop('embedded files', axis=1, inplace=True)\n",
        "x_train3.drop('XFA', axis=1, inplace=True)\n",
        "x_train3.drop('RichMedia', axis=1, inplace=True)\n",
        "\n",
        "x_test3 = x_test2.drop('images', axis=1)\n",
        "x_test3.drop('pages', axis=1, inplace=True)\n",
        "x_test3.drop('embedded files', axis=1, inplace=True)\n",
        "x_test3.drop('XFA', axis=1, inplace=True)\n",
        "x_test3.drop('RichMedia', axis=1, inplace=True)\n",
        "\n",
        "modeln = keras.models.Sequential([\n",
        "    layers.Dense(16, activation='relu', input_dim=19),\n",
        "    layers.Dense(16, activation='relu'),\n",
        "    layers.Dense(1, activation='sigmoid')\n",
        "])\n",
        "modeln.compile(optimizer='adam', loss='binary_crossentropy', metrics=['accuracy', tf.keras.metrics.Precision(), tf.keras.metrics.Recall()])\n",
        "es = EarlyStopping(monitor='val_accuracy',\n",
        "                                   mode='max', # don't minimize the accuracy!\n",
        "                                   patience=10,\n",
        "                                   restore_best_weights=True)\n",
        "hist = modeln.fit(x_train3, y_train2, epochs=20, batch_size=50, validation_split=0.3, callbacks=[es])\n",
        "modelnresults = modeln.evaluate(x_test3, y_test2)\n",
        "acc = modelnresults[1] * 100\n",
        "prec = modelnresults[2] * 100\n",
        "f1 = 2 * (modelnresults[1] * modelnresults[2]) / (modelnresults[1] + modelnresults[2]) * 100\n",
        "\n",
        "print(\"Accuracy: \", acc)\n",
        "print(\"Precision: \", prec)\n",
        "print(\"F1 score: \", f1)\n",
        "accDev = (acc / base_acc * 100) - 100\n",
        "presDev = (prec / base_prec * 100) - 100\n",
        "f1Dev = (f1 / base_f1 * 100) - 100\n",
        "print('Accuracy deviation: ', accDev)\n",
        "print('Precision deviation: ', presDev)\n",
        "print('F1 score deviation: ', f1Dev)\n",
        "plt.plot(hist.history['accuracy'])\n",
        "plt.plot(hist.history['val_accuracy'])\n",
        "plt.title('model accuracy')\n",
        "plt.ylabel('accuracy')\n",
        "plt.xlabel('epoch')\n",
        "plt.legend(['train', 'val'], loc='upper left')\n",
        "plt.show()\n",
        "plt.plot(hist.history['loss'])\n",
        "plt.plot(hist.history['val_loss'])\n",
        "plt.title('model loss')\n",
        "plt.ylabel('loss')\n",
        "plt.xlabel('epoch')\n",
        "plt.legend(['train', 'val'], loc='upper left')\n",
        "plt.show()"
      ]
    },
    {
      "cell_type": "code",
      "execution_count": null,
      "metadata": {
        "id": "7Z2eAePBEB-m"
      },
      "outputs": [],
      "source": [
        "x_train3 = x_train2.drop('images', axis=1)\n",
        "x_train3.drop('pages', axis=1, inplace=True)\n",
        "x_train3.drop('embedded files', axis=1, inplace=True)\n",
        "x_train3.drop('XFA', axis=1, inplace=True)\n",
        "x_train3.drop('RichMedia', axis=1, inplace=True)\n",
        "x_train3.drop('AA', axis=1, inplace=True)\n",
        "x_train3.drop('pdfsize', axis=1, inplace=True)\n",
        "\n",
        "x_test3 = x_test2.drop('images', axis=1)\n",
        "x_test3.drop('pages', axis=1, inplace=True)\n",
        "x_test3.drop('embedded files', axis=1, inplace=True)\n",
        "x_test3.drop('XFA', axis=1, inplace=True)\n",
        "x_test3.drop('RichMedia', axis=1, inplace=True)\n",
        "x_test3.drop('AA', axis=1, inplace=True)\n",
        "x_test3.drop('pdfsize', axis=1, inplace=True)\n",
        "\n",
        "modeln = keras.models.Sequential([\n",
        "    layers.Dense(16, activation='relu', input_dim=17),\n",
        "    layers.Dense(16, activation='relu'),\n",
        "    #layers.Dense(8, activation='relu'),\n",
        "    layers.Dense(1, activation='sigmoid')\n",
        "])\n",
        "modeln.compile(optimizer='adam', loss='binary_crossentropy', metrics=['accuracy', tf.keras.metrics.Precision(), tf.keras.metrics.Recall()])\n",
        "es = EarlyStopping(monitor='val_accuracy',\n",
        "                                   mode='max', # don't minimize the accuracy!\n",
        "                                   patience=10,\n",
        "                                   restore_best_weights=True)\n",
        "hist = modeln.fit(x_train3, y_train2, epochs=20, batch_size=50, validation_split=0.3, callbacks=[es])\n",
        "modelnresults = modeln.evaluate(x_test3, y_test2)\n",
        "acc = modelnresults[1] * 100\n",
        "prec = modelnresults[2] * 100\n",
        "f1 = 2 * (modelnresults[1] * modelnresults[2]) / (modelnresults[1] + modelnresults[2]) * 100\n",
        "\n",
        "print(\"Accuracy: \", acc)\n",
        "print(\"Precision: \", prec)\n",
        "print(\"F1 score: \", f1)\n",
        "accDev = (acc / base_acc * 100) - 100\n",
        "presDev = (prec / base_prec * 100) - 100\n",
        "f1Dev = (f1 / base_f1 * 100) - 100\n",
        "print('Accuracy deviation: ', accDev)\n",
        "print('Precision deviation: ', presDev)\n",
        "print('F1 score deviation: ', f1Dev)\n",
        "plt.plot(hist.history['accuracy'])\n",
        "plt.plot(hist.history['val_accuracy'])\n",
        "plt.title('model accuracy')\n",
        "plt.ylabel('accuracy')\n",
        "plt.xlabel('epoch')\n",
        "plt.legend(['train', 'val'], loc='upper left')\n",
        "plt.show()\n",
        "plt.plot(hist.history['loss'])\n",
        "plt.plot(hist.history['val_loss'])\n",
        "plt.title('model loss')\n",
        "plt.ylabel('loss')\n",
        "plt.xlabel('epoch')\n",
        "plt.legend(['train', 'val'], loc='upper left')\n",
        "plt.show()"
      ]
    },
    {
      "cell_type": "code",
      "execution_count": null,
      "metadata": {
        "id": "4ObNNBxoECPM"
      },
      "outputs": [],
      "source": [
        "x_train3 = x_train2.drop('images', axis=1)\n",
        "x_train3.drop('pages', axis=1, inplace=True)\n",
        "x_train3.drop('embedded files', axis=1, inplace=True)\n",
        "x_train3.drop('XFA', axis=1, inplace=True)\n",
        "x_train3.drop('RichMedia', axis=1, inplace=True)\n",
        "x_train3.drop('AA', axis=1, inplace=True)\n",
        "x_train3.drop('pdfsize', axis=1, inplace=True)\n",
        "x_train3.drop('title characters', axis=1, inplace=True)\n",
        "x_train3.drop('isEncrypted', axis=1, inplace=True)\n",
        "x_train3.drop('ObjStm', axis=1, inplace=True)\n",
        "\n",
        "x_test3 = x_test2.drop('images', axis=1)\n",
        "x_test3.drop('pages', axis=1, inplace=True)\n",
        "x_test3.drop('embedded files', axis=1, inplace=True)\n",
        "x_test3.drop('XFA', axis=1, inplace=True)\n",
        "x_test3.drop('RichMedia', axis=1, inplace=True)\n",
        "x_test3.drop('AA', axis=1, inplace=True)\n",
        "x_test3.drop('pdfsize', axis=1, inplace=True)\n",
        "x_test3.drop('title characters', axis=1, inplace=True)\n",
        "x_test3.drop('isEncrypted', axis=1, inplace=True)\n",
        "x_test3.drop('ObjStm', axis=1, inplace=True)\n",
        "\n",
        "modeln = keras.models.Sequential([\n",
        "    layers.Dense(16, activation='relu', input_dim=14),\n",
        "    layers.Dense(64, activation='relu'),\n",
        "    #layers.Dense(8, activation='relu'),\n",
        "    layers.Dense(1, activation='sigmoid')\n",
        "])\n",
        "modeln.compile(optimizer='adam', loss='binary_crossentropy', metrics=['accuracy', tf.keras.metrics.Precision(), tf.keras.metrics.Recall()])\n",
        "es = EarlyStopping(monitor='val_accuracy',\n",
        "                                   mode='max', # don't minimize the accuracy!\n",
        "                                   patience=10,\n",
        "                                   restore_best_weights=True)\n",
        "hist = modeln.fit(x_train3, y_train2, epochs=20, batch_size=50, validation_split=0.3, callbacks=[es])\n",
        "modelnresults = modeln.evaluate(x_test3, y_test2)\n",
        "acc = modelnresults[1] * 100\n",
        "prec = modelnresults[2] * 100\n",
        "f1 = 2 * (modelnresults[1] * modelnresults[2]) / (modelnresults[1] + modelnresults[2]) * 100\n",
        "\n",
        "print(\"Accuracy: \", acc)\n",
        "print(\"Precision: \", prec)\n",
        "print(\"F1 score: \", f1)\n",
        "accDev = (acc / base_acc * 100) - 100\n",
        "presDev = (prec / base_prec * 100) - 100\n",
        "f1Dev = (f1 / base_f1 * 100) - 100\n",
        "print('Accuracy deviation: ', accDev)\n",
        "print('Precision deviation: ', presDev)\n",
        "print('F1 score deviation: ', f1Dev)\n",
        "plt.plot(hist.history['accuracy'])\n",
        "plt.plot(hist.history['val_accuracy'])\n",
        "plt.title('model accuracy')\n",
        "plt.ylabel('accuracy')\n",
        "plt.xlabel('epoch')\n",
        "plt.legend(['train', 'val'], loc='upper left')\n",
        "plt.show()\n",
        "plt.plot(hist.history['loss'])\n",
        "plt.plot(hist.history['val_loss'])\n",
        "plt.title('model loss')\n",
        "plt.ylabel('loss')\n",
        "plt.xlabel('epoch')\n",
        "plt.legend(['train', 'val'], loc='upper left')\n",
        "plt.show()"
      ]
    },
    {
      "cell_type": "code",
      "execution_count": null,
      "metadata": {
        "id": "we6k4ql81VY0"
      },
      "outputs": [],
      "source": [
        "modeln.summary()"
      ]
    },
    {
      "cell_type": "code",
      "execution_count": null,
      "metadata": {
        "id": "5LgzP_rVjsi_"
      },
      "outputs": [],
      "source": [
        "xcols = [3, 5, 7, 10]\n",
        "ycols1 = [-6.9701, 1.2447, -1.7070, -3.3784]\n",
        "ycols2 = [-4.6788, 1.8153, -1.6616, -6.0883]\n",
        "ycols3 = [-5.8438, 1.5278, -1.6844, -4.7463]\n",
        "#plt.yticks(np.arange(-0.8, 0.0339, 0.005))\n",
        "plt.plot(xcols, ycols1, label = \"acp\")\n",
        "plt.plot(xcols, ycols2, label = \"pcp\")\n",
        "plt.plot(xcols, ycols3, label = \"f1 scp\")\n",
        "plt.legend()\n",
        "plt.show()"
      ]
    }
  ],
  "metadata": {
    "colab": {
      "collapsed_sections": [
        "CrGFomgykLWk",
        "fp81aW7vjjCb"
      ],
      "provenance": []
    },
    "kernelspec": {
      "display_name": "Python 3",
      "name": "python3"
    },
    "language_info": {
      "name": "python"
    }
  },
  "nbformat": 4,
  "nbformat_minor": 0
}